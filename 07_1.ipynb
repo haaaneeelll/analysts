{
  "cells": [
    {
      "cell_type": "markdown",
      "metadata": {
        "id": "ZJpCOr4Mo0lP"
      },
      "source": [
        "# 07-1 통계적으로 추론하기"
      ]
    },
    {
      "cell_type": "markdown",
      "metadata": {
        "id": "GJCDtGI0pZsl"
      },
      "source": [
        "<table class=\"tfo-notebook-buttons\" align=\"left\">\n",
        "  <td>\n",
        "    <a target=\"_blank\" href=\"https://nbviewer.jupyter.org/github/rickiepark/hg-da/blob/main/07-1.ipynb\"><img src=\"https://jupyter.org/assets/share.png\" width=\"61\" />주피터 노트북 뷰어로 보기</a>\n",
        "  </td>\n",
        "  <td>\n",
        "    <a target=\"_blank\" href=\"https://colab.research.google.com/github/rickiepark/hg-da/blob/main/07-1.ipynb\"><img src=\"https://www.tensorflow.org/images/colab_logo_32px.png\" />구글 코랩(Colab)에서 실행하기</a>\n",
        "  </td>\n",
        "</table>"
      ]
    },
    {
      "cell_type": "markdown",
      "metadata": {
        "id": "MRqcmZTWsjP7"
      },
      "source": [
        "## 표준 점수 구하기"
      ]
    },
    {
      "cell_type": "code",
      "execution_count": null,
      "metadata": {
        "colab": {
          "base_uri": "https://localhost:8080/"
        },
        "id": "cRfYWGRXslrj",
        "outputId": "e737bc90-5f73-4651-8435-e55765845847"
      },
      "outputs": [
        {
          "name": "stdout",
          "output_type": "stream",
          "text": [
            "0.5872202195147035\n"
          ]
        }
      ],
      "source": [
        "import numpy as np\n",
        "\n",
        "x = [0, 3, 5, 7, 10]\n",
        "\n",
        "s = np.std(x)\n",
        "m = np.mean(x)\n",
        "z = (7 - m) / s\n",
        "print(z)"
      ]
    },
    {
      "cell_type": "code",
      "execution_count": null,
      "metadata": {
        "colab": {
          "base_uri": "https://localhost:8080/"
        },
        "id": "6T2JVoT0s8G5",
        "outputId": "449f0bd7-3a1f-4bc4-c8d9-c9a91a2a5f4e"
      },
      "outputs": [
        {
          "data": {
            "text/plain": [
              "array([-1.46805055, -0.58722022,  0.        ,  0.58722022,  1.46805055])"
            ]
          },
          "execution_count": 2,
          "metadata": {},
          "output_type": "execute_result"
        }
      ],
      "source": [
        "from scipy import stats\n",
        "\n",
        "stats.zscore(x)"
      ]
    },
    {
      "cell_type": "code",
      "execution_count": null,
      "metadata": {
        "colab": {
          "base_uri": "https://localhost:8080/"
        },
        "id": "q1azfmWy5me9",
        "outputId": "73aca561-5f38-4d49-f35c-c682cd2bc9da"
      },
      "outputs": [
        {
          "data": {
            "text/plain": [
              "0.5"
            ]
          },
          "execution_count": 3,
          "metadata": {},
          "output_type": "execute_result"
        }
      ],
      "source": [
        "stats.norm.cdf(0)"
      ]
    },
    {
      "cell_type": "code",
      "execution_count": null,
      "metadata": {
        "colab": {
          "base_uri": "https://localhost:8080/"
        },
        "id": "zmKGa1FiumsK",
        "outputId": "87462af2-ce74-4614-d265-aeb300e2f765"
      },
      "outputs": [
        {
          "data": {
            "text/plain": [
              "0.6826894921370859"
            ]
          },
          "execution_count": 4,
          "metadata": {},
          "output_type": "execute_result"
        }
      ],
      "source": [
        "stats.norm.cdf(1.0) - stats.norm.cdf(-1.0)"
      ]
    },
    {
      "cell_type": "code",
      "execution_count": null,
      "metadata": {
        "colab": {
          "base_uri": "https://localhost:8080/"
        },
        "id": "Je26GrN4u3_d",
        "outputId": "df2e9127-47e4-4daf-aac7-893aa2d7cc03"
      },
      "outputs": [
        {
          "data": {
            "text/plain": [
              "0.9544997361036416"
            ]
          },
          "execution_count": 5,
          "metadata": {},
          "output_type": "execute_result"
        }
      ],
      "source": [
        "stats.norm.cdf(2.0) - stats.norm.cdf(-2.0)"
      ]
    },
    {
      "cell_type": "code",
      "execution_count": null,
      "metadata": {
        "colab": {
          "base_uri": "https://localhost:8080/"
        },
        "id": "Iedew-XD44qz",
        "outputId": "a10cdfc0-da9e-4761-b4d7-b708fc61fa47"
      },
      "outputs": [
        {
          "data": {
            "text/plain": [
              "1.2815515655446004"
            ]
          },
          "execution_count": 6,
          "metadata": {},
          "output_type": "execute_result"
        }
      ],
      "source": [
        "stats.norm.ppf(0.9)"
      ]
    },
    {
      "cell_type": "markdown",
      "metadata": {
        "id": "hh-yyG_vEt0b"
      },
      "source": [
        "## 중심극한정리 알아보기"
      ]
    },
    {
      "cell_type": "code",
      "execution_count": null,
      "metadata": {
        "colab": {
          "base_uri": "https://localhost:8080/",
          "height": 115
        },
        "id": "u_VrtVrroycg",
        "outputId": "f7432f47-fee2-479a-a9e7-df9f77c68fb3"
      },
      "outputs": [
        {
          "name": "stderr",
          "output_type": "stream",
          "text": [
            "Downloading...\n",
            "From: https://bit.ly/3pK7iuu\n",
            "To: /Users/haesun/github/hg-da/ns_book7.csv\n",
            "100%|██████████| 53.8M/53.8M [00:04<00:00, 11.0MB/s]\n"
          ]
        },
        {
          "data": {
            "text/plain": [
              "'ns_book7.csv'"
            ]
          },
          "execution_count": 7,
          "metadata": {},
          "output_type": "execute_result"
        }
      ],
      "source": [
        "import gdown\n",
        "\n",
        "gdown.download('https://bit.ly/3pK7iuu', 'ns_book7.csv', quiet=False)"
      ]
    },
    {
      "cell_type": "code",
      "execution_count": null,
      "metadata": {
        "colab": {
          "base_uri": "https://localhost:8080/",
          "height": 369
        },
        "id": "oUwKvOu5prmZ",
        "outputId": "a7fde6f1-81d5-4f6b-8f03-75705d421334"
      },
      "outputs": [
        {
          "data": {
            "text/html": [
              "<div>\n",
              "<style scoped>\n",
              "    .dataframe tbody tr th:only-of-type {\n",
              "        vertical-align: middle;\n",
              "    }\n",
              "\n",
              "    .dataframe tbody tr th {\n",
              "        vertical-align: top;\n",
              "    }\n",
              "\n",
              "    .dataframe thead th {\n",
              "        text-align: right;\n",
              "    }\n",
              "</style>\n",
              "<table border=\"1\" class=\"dataframe\">\n",
              "  <thead>\n",
              "    <tr style=\"text-align: right;\">\n",
              "      <th></th>\n",
              "      <th>번호</th>\n",
              "      <th>도서명</th>\n",
              "      <th>저자</th>\n",
              "      <th>출판사</th>\n",
              "      <th>발행년도</th>\n",
              "      <th>ISBN</th>\n",
              "      <th>세트 ISBN</th>\n",
              "      <th>부가기호</th>\n",
              "      <th>권</th>\n",
              "      <th>주제분류번호</th>\n",
              "      <th>도서권수</th>\n",
              "      <th>대출건수</th>\n",
              "      <th>등록일자</th>\n",
              "    </tr>\n",
              "  </thead>\n",
              "  <tbody>\n",
              "    <tr>\n",
              "      <th>0</th>\n",
              "      <td>1</td>\n",
              "      <td>인공지능과 흙</td>\n",
              "      <td>김동훈 지음</td>\n",
              "      <td>민음사</td>\n",
              "      <td>2021</td>\n",
              "      <td>9788937444319</td>\n",
              "      <td>NaN</td>\n",
              "      <td>NaN</td>\n",
              "      <td>NaN</td>\n",
              "      <td>NaN</td>\n",
              "      <td>1</td>\n",
              "      <td>0</td>\n",
              "      <td>2021-03-19</td>\n",
              "    </tr>\n",
              "    <tr>\n",
              "      <th>1</th>\n",
              "      <td>2</td>\n",
              "      <td>가짜 행복 권하는 사회</td>\n",
              "      <td>김태형 지음</td>\n",
              "      <td>갈매나무</td>\n",
              "      <td>2021</td>\n",
              "      <td>9791190123969</td>\n",
              "      <td>NaN</td>\n",
              "      <td>NaN</td>\n",
              "      <td>NaN</td>\n",
              "      <td>NaN</td>\n",
              "      <td>1</td>\n",
              "      <td>0</td>\n",
              "      <td>2021-03-19</td>\n",
              "    </tr>\n",
              "    <tr>\n",
              "      <th>2</th>\n",
              "      <td>3</td>\n",
              "      <td>나도 한 문장 잘 쓰면 바랄 게 없겠네</td>\n",
              "      <td>김선영 지음</td>\n",
              "      <td>블랙피쉬</td>\n",
              "      <td>2021</td>\n",
              "      <td>9788968332982</td>\n",
              "      <td>NaN</td>\n",
              "      <td>NaN</td>\n",
              "      <td>NaN</td>\n",
              "      <td>NaN</td>\n",
              "      <td>1</td>\n",
              "      <td>0</td>\n",
              "      <td>2021-03-19</td>\n",
              "    </tr>\n",
              "    <tr>\n",
              "      <th>3</th>\n",
              "      <td>4</td>\n",
              "      <td>예루살렘 해변</td>\n",
              "      <td>이도 게펜 지음, 임재희 옮김</td>\n",
              "      <td>문학세계사</td>\n",
              "      <td>2021</td>\n",
              "      <td>9788970759906</td>\n",
              "      <td>NaN</td>\n",
              "      <td>NaN</td>\n",
              "      <td>NaN</td>\n",
              "      <td>NaN</td>\n",
              "      <td>1</td>\n",
              "      <td>0</td>\n",
              "      <td>2021-03-19</td>\n",
              "    </tr>\n",
              "    <tr>\n",
              "      <th>4</th>\n",
              "      <td>5</td>\n",
              "      <td>김성곤의 중국한시기행 : 장강·황하 편</td>\n",
              "      <td>김성곤 지음</td>\n",
              "      <td>김영사</td>\n",
              "      <td>2021</td>\n",
              "      <td>9788934990833</td>\n",
              "      <td>NaN</td>\n",
              "      <td>NaN</td>\n",
              "      <td>NaN</td>\n",
              "      <td>NaN</td>\n",
              "      <td>1</td>\n",
              "      <td>0</td>\n",
              "      <td>2021-03-19</td>\n",
              "    </tr>\n",
              "  </tbody>\n",
              "</table>\n",
              "</div>"
            ],
            "text/plain": [
              "   번호                    도서명                저자    출판사  발행년도           ISBN  \\\n",
              "0   1                인공지능과 흙            김동훈 지음    민음사  2021  9788937444319   \n",
              "1   2           가짜 행복 권하는 사회            김태형 지음   갈매나무  2021  9791190123969   \n",
              "2   3  나도 한 문장 잘 쓰면 바랄 게 없겠네            김선영 지음   블랙피쉬  2021  9788968332982   \n",
              "3   4                예루살렘 해변  이도 게펜 지음, 임재희 옮김  문학세계사  2021  9788970759906   \n",
              "4   5  김성곤의 중국한시기행 : 장강·황하 편            김성곤 지음    김영사  2021  9788934990833   \n",
              "\n",
              "  세트 ISBN 부가기호    권 주제분류번호  도서권수  대출건수        등록일자  \n",
              "0     NaN  NaN  NaN    NaN     1     0  2021-03-19  \n",
              "1     NaN  NaN  NaN    NaN     1     0  2021-03-19  \n",
              "2     NaN  NaN  NaN    NaN     1     0  2021-03-19  \n",
              "3     NaN  NaN  NaN    NaN     1     0  2021-03-19  \n",
              "4     NaN  NaN  NaN    NaN     1     0  2021-03-19  "
            ]
          },
          "execution_count": 8,
          "metadata": {},
          "output_type": "execute_result"
        }
      ],
      "source": [
        "import pandas as pd\n",
        "\n",
        "ns_book7 = pd.read_csv('ns_book7.csv', low_memory=False)\n",
        "ns_book7.head()"
      ]
    },
    {
      "cell_type": "code",
      "execution_count": null,
      "metadata": {
        "colab": {
          "base_uri": "https://localhost:8080/",
          "height": 265
        },
        "id": "i0DhGLwfs1mS",
        "outputId": "5fb26f40-addf-40ea-8517-d0e83fe20427"
      },
      "outputs": [
        {
          "data": {
            "image/png": "[encoded data removed]",
            "text/plain": [
              "<Figure size 432x288 with 1 Axes>"
            ]
          },
          "metadata": {
            "needs_background": "light"
          },
          "output_type": "display_data"
        }
      ],
      "source": [
        "import matplotlib.pyplot as plt\n",
        "\n",
        "plt.hist(ns_book7['대출건수'], bins=50)\n",
        "plt.yscale('log')\n",
        "plt.show()"
      ]
    },
    {
      "cell_type": "code",
      "execution_count": null,
      "metadata": {
        "id": "rqrrFglds1ia"
      },
      "outputs": [],
      "source": [
        "np.random.seed(42)\n",
        "sample_means = []\n",
        "for _ in range(1000):\n",
        "    m = ns_book7['대출건수'].sample(30).mean()\n",
        "    sample_means.append(m)"
      ]
    },
    {
      "cell_type": "code",
      "execution_count": null,
      "metadata": {
        "colab": {
          "base_uri": "https://localhost:8080/",
          "height": 265
        },
        "id": "Bnc9nVKGDojy",
        "outputId": "225b1b36-d847-4db6-9f32-8b58aefef40a"
      },
      "outputs": [
        {
          "data": {
            "image/png": "[encoded data removed]",
            "text/plain": [
              "<Figure size 432x288 with 1 Axes>"
            ]
          },
          "metadata": {
            "needs_background": "light"
          },
          "output_type": "display_data"
        }
      ],
      "source": [
        "plt.hist(sample_means, bins=30)\n",
        "plt.show()"
      ]
    },
    {
      "cell_type": "code",
      "execution_count": null,
      "metadata": {
        "colab": {
          "base_uri": "https://localhost:8080/"
        },
        "id": "gfu1RrNB78nr",
        "outputId": "94f6d564-8b03-4a9a-de43-305d1e3c355d"
      },
      "outputs": [
        {
          "data": {
            "text/plain": [
              "11.539900000000001"
            ]
          },
          "execution_count": 12,
          "metadata": {},
          "output_type": "execute_result"
        }
      ],
      "source": [
        "np.mean(sample_means)"
      ]
    },
    {
      "cell_type": "code",
      "execution_count": null,
      "metadata": {
        "colab": {
          "base_uri": "https://localhost:8080/"
        },
        "id": "BkbBMzb8s1fL",
        "outputId": "b0180306-e744-4e4b-f5ac-1f70ce1f47a8"
      },
      "outputs": [
        {
          "data": {
            "text/plain": [
              "11.593438968070707"
            ]
          },
          "execution_count": 13,
          "metadata": {},
          "output_type": "execute_result"
        }
      ],
      "source": [
        "ns_book7['대출건수'].mean()"
      ]
    },
    {
      "cell_type": "code",
      "execution_count": null,
      "metadata": {
        "colab": {
          "base_uri": "https://localhost:8080/"
        },
        "id": "IwfG4hels1Z1",
        "outputId": "a3cfbf3b-4ff8-497e-8443-3775e35f2223"
      },
      "outputs": [
        {
          "data": {
            "text/plain": [
              "11.39945"
            ]
          },
          "execution_count": 14,
          "metadata": {},
          "output_type": "execute_result"
        }
      ],
      "source": [
        "np.random.seed(42)\n",
        "sample_means = []\n",
        "for _ in range(1000):\n",
        "    m = ns_book7['대출건수'].sample(20).mean()\n",
        "    sample_means.append(m)\n",
        "np.mean(sample_means)"
      ]
    },
    {
      "cell_type": "code",
      "execution_count": null,
      "metadata": {
        "colab": {
          "base_uri": "https://localhost:8080/"
        },
        "id": "SbihCBpGs1Ow",
        "outputId": "189125d9-0094-495f-bb62-b06f84605d49"
      },
      "outputs": [
        {
          "data": {
            "text/plain": [
              "11.5613"
            ]
          },
          "execution_count": 15,
          "metadata": {},
          "output_type": "execute_result"
        }
      ],
      "source": [
        "np.random.seed(42)\n",
        "sample_means = []\n",
        "for _ in range(1000):\n",
        "    m = ns_book7['대출건수'].sample(40).mean()\n",
        "    sample_means.append(m)\n",
        "np.mean(sample_means)"
      ]
    },
    {
      "cell_type": "code",
      "execution_count": null,
      "metadata": {
        "colab": {
          "base_uri": "https://localhost:8080/"
        },
        "id": "Dj96kfUrAx1m",
        "outputId": "541e7ce0-ca84-4522-edbf-e15f18de6011"
      },
      "outputs": [
        {
          "data": {
            "text/plain": [
              "3.0355987564235165"
            ]
          },
          "execution_count": 16,
          "metadata": {},
          "output_type": "execute_result"
        }
      ],
      "source": [
        "np.std(sample_means)"
      ]
    },
    {
      "cell_type": "code",
      "execution_count": null,
      "metadata": {
        "colab": {
          "base_uri": "https://localhost:8080/"
        },
        "id": "aIK6Z6szA7V0",
        "outputId": "42adbf57-b262-47d5-8a4f-52a2e59e8743"
      },
      "outputs": [
        {
          "data": {
            "text/plain": [
              "3.048338251806833"
            ]
          },
          "execution_count": 17,
          "metadata": {},
          "output_type": "execute_result"
        }
      ],
      "source": [
        "np.std(ns_book7['대출건수']) / np.sqrt(40)"
      ]
    },
    {
      "cell_type": "markdown",
      "metadata": {
        "id": "2wdjIKPJCBTJ"
      },
      "source": [
        "## 모집단의 평균 범위 추정하기: 신뢰구간"
      ]
    },
    {
      "cell_type": "code",
      "execution_count": null,
      "metadata": {
        "colab": {
          "base_uri": "https://localhost:8080/",
          "height": 425
        },
        "id": "8zpHa_SPAzH-",
        "outputId": "154f498f-65bd-4560-d5be-22a3d99d45db"
      },
      "outputs": [
        {
          "data": {
            "text/html": [
              "<div>\n",
              "<style scoped>\n",
              "    .dataframe tbody tr th:only-of-type {\n",
              "        vertical-align: middle;\n",
              "    }\n",
              "\n",
              "    .dataframe tbody tr th {\n",
              "        vertical-align: top;\n",
              "    }\n",
              "\n",
              "    .dataframe thead th {\n",
              "        text-align: right;\n",
              "    }\n",
              "</style>\n",
              "<table border=\"1\" class=\"dataframe\">\n",
              "  <thead>\n",
              "    <tr style=\"text-align: right;\">\n",
              "      <th></th>\n",
              "      <th>번호</th>\n",
              "      <th>도서명</th>\n",
              "      <th>저자</th>\n",
              "      <th>출판사</th>\n",
              "      <th>발행년도</th>\n",
              "      <th>ISBN</th>\n",
              "      <th>세트 ISBN</th>\n",
              "      <th>부가기호</th>\n",
              "      <th>권</th>\n",
              "      <th>주제분류번호</th>\n",
              "      <th>도서권수</th>\n",
              "      <th>대출건수</th>\n",
              "      <th>등록일자</th>\n",
              "    </tr>\n",
              "  </thead>\n",
              "  <tbody>\n",
              "    <tr>\n",
              "      <th>1040</th>\n",
              "      <td>1060</td>\n",
              "      <td>실전 알고리즘 트레이딩 배우기 (파이썬으로 시작하는 알고리즘 트레이딩의 기초와 실전...</td>\n",
              "      <td>세바스티앙 도나디오.수라브 고쉬 지음|이기홍</td>\n",
              "      <td>에이콘출판</td>\n",
              "      <td>2021</td>\n",
              "      <td>9791161754901</td>\n",
              "      <td>NaN</td>\n",
              "      <td>NaN</td>\n",
              "      <td>NaN</td>\n",
              "      <td>004.73</td>\n",
              "      <td>1</td>\n",
              "      <td>1</td>\n",
              "      <td>2021-03-09</td>\n",
              "    </tr>\n",
              "    <tr>\n",
              "      <th>1162</th>\n",
              "      <td>1185</td>\n",
              "      <td>파이썬으로 경험하는 빅데이터 분석과 머신러닝</td>\n",
              "      <td>이영호,이수현 지음</td>\n",
              "      <td>생능출판사</td>\n",
              "      <td>2021</td>\n",
              "      <td>9788970504803</td>\n",
              "      <td>NaN</td>\n",
              "      <td>9</td>\n",
              "      <td>NaN</td>\n",
              "      <td>005.135</td>\n",
              "      <td>1</td>\n",
              "      <td>1</td>\n",
              "      <td>2021-03-02</td>\n",
              "    </tr>\n",
              "    <tr>\n",
              "      <th>1447</th>\n",
              "      <td>1504</td>\n",
              "      <td>금융 파이썬 쿡북 (금융 데이터 처리와 기술 분석부터 딥러닝 적용까지)</td>\n",
              "      <td>에릭 르윈슨</td>\n",
              "      <td>에이콘출판</td>\n",
              "      <td>2021</td>\n",
              "      <td>9791161750507</td>\n",
              "      <td>NaN</td>\n",
              "      <td>NaN</td>\n",
              "      <td>NaN</td>\n",
              "      <td>005.133</td>\n",
              "      <td>1</td>\n",
              "      <td>2</td>\n",
              "      <td>2021-02-22</td>\n",
              "    </tr>\n",
              "    <tr>\n",
              "      <th>1563</th>\n",
              "      <td>1630</td>\n",
              "      <td>프로그래머를 위한 파이썬 (실전 프로젝트로 배우는 소프트웨어 개발의 원리와 정석)</td>\n",
              "      <td>데인 힐라드 지음|황반석</td>\n",
              "      <td>제이펍</td>\n",
              "      <td>2020</td>\n",
              "      <td>9791190665636</td>\n",
              "      <td>NaN</td>\n",
              "      <td>NaN</td>\n",
              "      <td>NaN</td>\n",
              "      <td>005.133</td>\n",
              "      <td>1</td>\n",
              "      <td>2</td>\n",
              "      <td>2021-02-16</td>\n",
              "    </tr>\n",
              "    <tr>\n",
              "      <th>1571</th>\n",
              "      <td>1640</td>\n",
              "      <td>엑셀 × 파이썬 업무 자동화 - 매크로, VBA는 이제 낡았다!</td>\n",
              "      <td>카네히로 카즈미 (지은이), 서수환 (옮긴이)</td>\n",
              "      <td>인사이트</td>\n",
              "      <td>2020</td>\n",
              "      <td>9788966262847</td>\n",
              "      <td>NaN</td>\n",
              "      <td>NaN</td>\n",
              "      <td>NaN</td>\n",
              "      <td>005.53</td>\n",
              "      <td>1</td>\n",
              "      <td>2</td>\n",
              "      <td>2021-02-16</td>\n",
              "    </tr>\n",
              "  </tbody>\n",
              "</table>\n",
              "</div>"
            ],
            "text/plain": [
              "        번호                                                도서명  \\\n",
              "1040  1060  실전 알고리즘 트레이딩 배우기 (파이썬으로 시작하는 알고리즘 트레이딩의 기초와 실전...   \n",
              "1162  1185                          파이썬으로 경험하는 빅데이터 분석과 머신러닝    \n",
              "1447  1504            금융 파이썬 쿡북 (금융 데이터 처리와 기술 분석부터 딥러닝 적용까지)   \n",
              "1563  1630      프로그래머를 위한 파이썬 (실전 프로젝트로 배우는 소프트웨어 개발의 원리와 정석)   \n",
              "1571  1640                엑셀 × 파이썬 업무 자동화 - 매크로, VBA는 이제 낡았다!   \n",
              "\n",
              "                             저자    출판사  발행년도           ISBN 세트 ISBN 부가기호    권  \\\n",
              "1040   세바스티앙 도나디오.수라브 고쉬 지음|이기홍  에이콘출판  2021  9791161754901     NaN  NaN  NaN   \n",
              "1162                 이영호,이수현 지음  생능출판사  2021  9788970504803     NaN    9  NaN   \n",
              "1447                     에릭 르윈슨  에이콘출판  2021  9791161750507     NaN  NaN  NaN   \n",
              "1563              데인 힐라드 지음|황반석    제이펍  2020  9791190665636     NaN  NaN  NaN   \n",
              "1571  카네히로 카즈미 (지은이), 서수환 (옮긴이)   인사이트  2020  9788966262847     NaN  NaN  NaN   \n",
              "\n",
              "       주제분류번호  도서권수  대출건수        등록일자  \n",
              "1040   004.73     1     1  2021-03-09  \n",
              "1162  005.135     1     1  2021-03-02  \n",
              "1447  005.133     1     2  2021-02-22  \n",
              "1563  005.133     1     2  2021-02-16  \n",
              "1571   005.53     1     2  2021-02-16  "
            ]
          },
          "execution_count": 18,
          "metadata": {},
          "output_type": "execute_result"
        }
      ],
      "source": [
        "python_books_index = ns_book7['주제분류번호'].str.startswith('00') & \\\n",
        "                     ns_book7['도서명'].str.contains('파이썬')\n",
        "python_books = ns_book7[python_books_index]\n",
        "python_books.head()"
      ]
    },
    {
      "cell_type": "code",
      "execution_count": null,
      "metadata": {
        "colab": {
          "base_uri": "https://localhost:8080/"
        },
        "id": "SCRT_UaSEofu",
        "outputId": "b87b1591-e0fe-418b-865d-3e0308549432"
      },
      "outputs": [
        {
          "data": {
            "text/plain": [
              "251"
            ]
          },
          "execution_count": 19,
          "metadata": {},
          "output_type": "execute_result"
        }
      ],
      "source": [
        "len(python_books)"
      ]
    },
    {
      "cell_type": "code",
      "execution_count": null,
      "metadata": {
        "colab": {
          "base_uri": "https://localhost:8080/"
        },
        "id": "NNG_gi_hEaR2",
        "outputId": "61e49557-e614-47d1-dc39-8bb807c542ea"
      },
      "outputs": [
        {
          "data": {
            "text/plain": [
              "14.749003984063744"
            ]
          },
          "execution_count": 20,
          "metadata": {},
          "output_type": "execute_result"
        }
      ],
      "source": [
        "python_mean = np.mean(python_books['대출건수'])\n",
        "python_mean"
      ]
    },
    {
      "cell_type": "code",
      "execution_count": null,
      "metadata": {
        "colab": {
          "base_uri": "https://localhost:8080/"
        },
        "id": "wtQ5vTaJsVqh",
        "outputId": "3f65f24c-78ca-4dea-94cd-5c229dc87df6"
      },
      "outputs": [
        {
          "data": {
            "text/plain": [
              "0.8041612072427442"
            ]
          },
          "execution_count": 21,
          "metadata": {},
          "output_type": "execute_result"
        }
      ],
      "source": [
        "python_std = np.std(python_books['대출건수'])\n",
        "python_se = python_std / np.sqrt(len(python_books))\n",
        "python_se"
      ]
    },
    {
      "cell_type": "code",
      "execution_count": null,
      "metadata": {
        "colab": {
          "base_uri": "https://localhost:8080/"
        },
        "id": "1O5vWMSy4SE0",
        "outputId": "2205debf-fc32-4eee-b639-eae85798e403"
      },
      "outputs": [
        {
          "data": {
            "text/plain": [
              "1.959963984540054"
            ]
          },
          "execution_count": 22,
          "metadata": {},
          "output_type": "execute_result"
        }
      ],
      "source": [
        "stats.norm.ppf(0.975)"
      ]
    },
    {
      "cell_type": "code",
      "execution_count": null,
      "metadata": {
        "colab": {
          "base_uri": "https://localhost:8080/"
        },
        "id": "boKsO4py4V0D",
        "outputId": "5bb6d20d-89db-40cd-90b3-8ab59c1f3999"
      },
      "outputs": [
        {
          "data": {
            "text/plain": [
              "-1.9599639845400545"
            ]
          },
          "execution_count": 23,
          "metadata": {},
          "output_type": "execute_result"
        }
      ],
      "source": [
        "stats.norm.ppf(0.025)"
      ]
    },
    {
      "cell_type": "code",
      "execution_count": null,
      "metadata": {
        "colab": {
          "base_uri": "https://localhost:8080/"
        },
        "id": "rlWys95NEJlc",
        "outputId": "cb162a74-49ae-4430-d8ce-06bd370b6054"
      },
      "outputs": [
        {
          "name": "stdout",
          "output_type": "stream",
          "text": [
            "13.172848017867965 16.325159950259522\n"
          ]
        }
      ],
      "source": [
        "print(python_mean-1.96*python_se, python_mean+1.96*python_se)"
      ]
    },
    {
      "cell_type": "markdown",
      "metadata": {
        "id": "wqKCcAy-vdaD"
      },
      "source": [
        "## 통계적 의미 확인하기: 가설검정"
      ]
    },
    {
      "cell_type": "code",
      "execution_count": null,
      "metadata": {
        "colab": {
          "base_uri": "https://localhost:8080/",
          "height": 444
        },
        "id": "RFET4aydA1s6",
        "outputId": "487ea3e9-0d9f-4cf2-a914-6f84f2b33df8"
      },
      "outputs": [
        {
          "data": {
            "text/html": [
              "<div>\n",
              "<style scoped>\n",
              "    .dataframe tbody tr th:only-of-type {\n",
              "        vertical-align: middle;\n",
              "    }\n",
              "\n",
              "    .dataframe tbody tr th {\n",
              "        vertical-align: top;\n",
              "    }\n",
              "\n",
              "    .dataframe thead th {\n",
              "        text-align: right;\n",
              "    }\n",
              "</style>\n",
              "<table border=\"1\" class=\"dataframe\">\n",
              "  <thead>\n",
              "    <tr style=\"text-align: right;\">\n",
              "      <th></th>\n",
              "      <th>번호</th>\n",
              "      <th>도서명</th>\n",
              "      <th>저자</th>\n",
              "      <th>출판사</th>\n",
              "      <th>발행년도</th>\n",
              "      <th>ISBN</th>\n",
              "      <th>세트 ISBN</th>\n",
              "      <th>부가기호</th>\n",
              "      <th>권</th>\n",
              "      <th>주제분류번호</th>\n",
              "      <th>도서권수</th>\n",
              "      <th>대출건수</th>\n",
              "      <th>등록일자</th>\n",
              "    </tr>\n",
              "  </thead>\n",
              "  <tbody>\n",
              "    <tr>\n",
              "      <th>101</th>\n",
              "      <td>103</td>\n",
              "      <td>C++를 사용한 언리얼 엔진 4 개발 2/e (100여 개의 레시피를 통해 배우는 ...</td>\n",
              "      <td>존 도란.윌리엄 셰리프.스테판 화이틀 지음|조경빈</td>\n",
              "      <td>에이콘</td>\n",
              "      <td>2020</td>\n",
              "      <td>9791161754659</td>\n",
              "      <td>NaN</td>\n",
              "      <td>NaN</td>\n",
              "      <td>NaN</td>\n",
              "      <td>005.11</td>\n",
              "      <td>1</td>\n",
              "      <td>1</td>\n",
              "      <td>2021-03-15</td>\n",
              "    </tr>\n",
              "    <tr>\n",
              "      <th>19754</th>\n",
              "      <td>20779</td>\n",
              "      <td>Game Programming in C++</td>\n",
              "      <td>산자이 마드하브</td>\n",
              "      <td>에이콘출판</td>\n",
              "      <td>2019</td>\n",
              "      <td>9791161753560</td>\n",
              "      <td>NaN</td>\n",
              "      <td>NaN</td>\n",
              "      <td>NaN</td>\n",
              "      <td>005.133</td>\n",
              "      <td>1</td>\n",
              "      <td>10</td>\n",
              "      <td>2019-11-26</td>\n",
              "    </tr>\n",
              "    <tr>\n",
              "      <th>20198</th>\n",
              "      <td>21289</td>\n",
              "      <td>C++ API OpenCV 프로그래밍 - 2nd Edition</td>\n",
              "      <td>김동근</td>\n",
              "      <td>가메출판사</td>\n",
              "      <td>2016</td>\n",
              "      <td>9788980782864</td>\n",
              "      <td>NaN</td>\n",
              "      <td>NaN</td>\n",
              "      <td>NaN</td>\n",
              "      <td>004.77</td>\n",
              "      <td>1</td>\n",
              "      <td>5</td>\n",
              "      <td>2019-11-05</td>\n",
              "    </tr>\n",
              "    <tr>\n",
              "      <th>21630</th>\n",
              "      <td>22950</td>\n",
              "      <td>Visual C++ 영상처리 프로그래밍 =Visual C++ image proces...</td>\n",
              "      <td>황선규 지음</td>\n",
              "      <td>길벗</td>\n",
              "      <td>2015</td>\n",
              "      <td>9791186978153</td>\n",
              "      <td>NaN</td>\n",
              "      <td>9</td>\n",
              "      <td>NaN</td>\n",
              "      <td>004.77</td>\n",
              "      <td>1</td>\n",
              "      <td>3</td>\n",
              "      <td>2019-10-22</td>\n",
              "    </tr>\n",
              "    <tr>\n",
              "      <th>22461</th>\n",
              "      <td>23859</td>\n",
              "      <td>Functional Programming in C++</td>\n",
              "      <td>이반 추키츠 지음, 김점갑 옮김</td>\n",
              "      <td>에이콘출판</td>\n",
              "      <td>2019</td>\n",
              "      <td>9791161753416</td>\n",
              "      <td>NaN</td>\n",
              "      <td>NaN</td>\n",
              "      <td>NaN</td>\n",
              "      <td>005.133</td>\n",
              "      <td>1</td>\n",
              "      <td>4</td>\n",
              "      <td>2019-09-26</td>\n",
              "    </tr>\n",
              "  </tbody>\n",
              "</table>\n",
              "</div>"
            ],
            "text/plain": [
              "          번호                                                도서명  \\\n",
              "101      103  C++를 사용한 언리얼 엔진 4 개발 2/e (100여 개의 레시피를 통해 배우는 ...   \n",
              "19754  20779                            Game Programming in C++   \n",
              "20198  21289                 C++ API OpenCV 프로그래밍 - 2nd Edition   \n",
              "21630  22950  Visual C++ 영상처리 프로그래밍 =Visual C++ image proces...   \n",
              "22461  23859                      Functional Programming in C++   \n",
              "\n",
              "                                저자    출판사  발행년도           ISBN 세트 ISBN 부가기호  \\\n",
              "101    존 도란.윌리엄 셰리프.스테판 화이틀 지음|조경빈    에이콘  2020  9791161754659     NaN  NaN   \n",
              "19754                     산자이 마드하브  에이콘출판  2019  9791161753560     NaN  NaN   \n",
              "20198                          김동근  가메출판사  2016  9788980782864     NaN  NaN   \n",
              "21630                       황선규 지음     길벗  2015  9791186978153     NaN    9   \n",
              "22461            이반 추키츠 지음, 김점갑 옮김  에이콘출판  2019  9791161753416     NaN  NaN   \n",
              "\n",
              "         권   주제분류번호  도서권수  대출건수        등록일자  \n",
              "101    NaN   005.11     1     1  2021-03-15  \n",
              "19754  NaN  005.133     1    10  2019-11-26  \n",
              "20198  NaN   004.77     1     5  2019-11-05  \n",
              "21630  NaN   004.77     1     3  2019-10-22  \n",
              "22461  NaN  005.133     1     4  2019-09-26  "
            ]
          },
          "execution_count": 25,
          "metadata": {},
          "output_type": "execute_result"
        }
      ],
      "source": [
        "cplus_books_index = ns_book7['주제분류번호'].str.startswith('00') & \\\n",
        "                    ns_book7['도서명'].str.contains('C++', regex=False)\n",
        "cplus_books = ns_book7[cplus_books_index]\n",
        "cplus_books.head()"
      ]
    },
    {
      "cell_type": "code",
      "execution_count": null,
      "metadata": {
        "colab": {
          "base_uri": "https://localhost:8080/"
        },
        "id": "Rl_7qMNw5-6U",
        "outputId": "1555356a-1d90-48f1-c03d-bc4991b6f317"
      },
      "outputs": [
        {
          "data": {
            "text/plain": [
              "89"
            ]
          },
          "execution_count": 26,
          "metadata": {},
          "output_type": "execute_result"
        }
      ],
      "source": [
        "len(cplus_books)"
      ]
    },
    {
      "cell_type": "code",
      "execution_count": null,
      "metadata": {
        "colab": {
          "base_uri": "https://localhost:8080/"
        },
        "id": "MZvrZBNbA3Eb",
        "outputId": "2fe30e74-fe99-4376-800b-32dcae4f55ad"
      },
      "outputs": [
        {
          "data": {
            "text/plain": [
              "11.595505617977528"
            ]
          },
          "execution_count": 27,
          "metadata": {},
          "output_type": "execute_result"
        }
      ],
      "source": [
        "cplus_mean = np.mean(cplus_books['대출건수'])\n",
        "cplus_mean"
      ]
    },
    {
      "cell_type": "code",
      "execution_count": null,
      "metadata": {
        "colab": {
          "base_uri": "https://localhost:8080/"
        },
        "id": "OYVLvz89A8no",
        "outputId": "dc8cbda0-bfe7-49f5-cf8f-2192d9829439"
      },
      "outputs": [
        {
          "data": {
            "text/plain": [
              "0.9748405650607009"
            ]
          },
          "execution_count": 28,
          "metadata": {},
          "output_type": "execute_result"
        }
      ],
      "source": [
        "cplus_se = np.std(cplus_books['대출건수'])/ np.sqrt(len(cplus_books))\n",
        "cplus_se"
      ]
    },
    {
      "cell_type": "code",
      "execution_count": null,
      "metadata": {
        "colab": {
          "base_uri": "https://localhost:8080/"
        },
        "id": "Y848zkB_3I_Q",
        "outputId": "fcbc9470-74df-4030-c005-f960bec2e6a3"
      },
      "outputs": [
        {
          "data": {
            "text/plain": [
              "2.495408195140708"
            ]
          },
          "execution_count": 29,
          "metadata": {},
          "output_type": "execute_result"
        }
      ],
      "source": [
        "(python_mean - cplus_mean) / np.sqrt(python_se**2 + cplus_se**2)"
      ]
    },
    {
      "cell_type": "code",
      "execution_count": null,
      "metadata": {
        "colab": {
          "base_uri": "https://localhost:8080/"
        },
        "id": "9oRt_gdl3lQi",
        "outputId": "902e66e4-1423-4291-8d39-6f5d16e998b8"
      },
      "outputs": [
        {
          "data": {
            "text/plain": [
              "0.9937903346742238"
            ]
          },
          "execution_count": 30,
          "metadata": {},
          "output_type": "execute_result"
        }
      ],
      "source": [
        "stats.norm.cdf(2.50)"
      ]
    },
    {
      "cell_type": "code",
      "execution_count": null,
      "metadata": {
        "colab": {
          "base_uri": "https://localhost:8080/"
        },
        "id": "tVqtHLbi4NTk",
        "outputId": "4435d31f-3693-4eb6-e397-1907b6509d7c"
      },
      "outputs": [
        {
          "data": {
            "text/plain": [
              "0.010000000000000009"
            ]
          },
          "execution_count": 31,
          "metadata": {},
          "output_type": "execute_result"
        }
      ],
      "source": [
        "p_value = (1-0.995)*2\n",
        "p_value"
      ]
    },
    {
      "cell_type": "code",
      "execution_count": null,
      "metadata": {
        "colab": {
          "base_uri": "https://localhost:8080/"
        },
        "id": "S-ggRj-Y4c6s",
        "outputId": "53ef7f0b-b431-4845-a1a9-17d9a12c7598"
      },
      "outputs": [
        {
          "name": "stdout",
          "output_type": "stream",
          "text": [
            "2.1390005694958574 0.03315179520224784\n"
          ]
        }
      ],
      "source": [
        "t, pvalue = stats.ttest_ind(python_books['대출건수'], cplus_books['대출건수'])\n",
        "print(t, pvalue)"
      ]
    },
    {
      "cell_type": "markdown",
      "metadata": {
        "id": "GrVfEp7f7b8c"
      },
      "source": [
        "## 정규분포가 아닐 때 가설 검증하기: 순열검정"
      ]
    },
    {
      "cell_type": "code",
      "execution_count": null,
      "metadata": {
        "id": "-COEOtPShlf3"
      },
      "outputs": [],
      "source": [
        "def statistic(x, y):\n",
        "    return np.mean(x) - np.mean(y)"
      ]
    },
    {
      "cell_type": "code",
      "execution_count": null,
      "metadata": {
        "id": "f3uBrPMIhlf4"
      },
      "outputs": [],
      "source": [
        "def permutation_test(x, y):\n",
        "    # 표본의 평균 차이를 계산합니다.\n",
        "    obs_diff = statistic(x, y)\n",
        "    # 두 표본을 합칩니다.\n",
        "    all = np.append(x, y)\n",
        "    diffs = []\n",
        "    np.random.seed(42)\n",
        "    # 순열 검정을 1000번 반복합니다.\n",
        "    for _ in range(1000):\n",
        "        # 전체 인덱스를 섞습니다.\n",
        "        idx = np.random.permutation(len(all))\n",
        "        # 랜덤하게 두 그룹으로 나눈 다음 평균 차이를 계산합니다.\n",
        "        x_ = all[idx[:len(x)]]\n",
        "        y_ = all[idx[len(x):]]\n",
        "        diffs.append(statistic(x_, y_))\n",
        "    # 원본 표본보다 작거나 큰 경우의 p-값을 계산합니다.\n",
        "    less_pvalue = np.sum(diffs < obs_diff)/1000\n",
        "    greater_pvalue = np.sum(diffs > obs_diff)/1000\n",
        "    # 둘 중 작은 p-값을 선택해 2를 곱하여 최종 p-값을 반환합니다.\n",
        "    return obs_diff, np.minimum(less_pvalue, greater_pvalue) * 2"
      ]
    },
    {
      "cell_type": "code",
      "execution_count": null,
      "metadata": {
        "colab": {
          "base_uri": "https://localhost:8080/"
        },
        "id": "dxAnBnswhlf4",
        "outputId": "88da7a30-7948-4e5f-9b91-e0dd49a9702f"
      },
      "outputs": [
        {
          "data": {
            "text/plain": [
              "(3.1534983660862164, 0.022)"
            ]
          },
          "execution_count": 35,
          "metadata": {},
          "output_type": "execute_result"
        }
      ],
      "source": [
        "permutation_test(python_books['대출건수'], cplus_books['대출건수'])"
      ]
    },
    {
      "cell_type": "code",
      "execution_count": null,
      "metadata": {
        "id": "oLXMRzoXOSul"
      },
      "outputs": [],
      "source": [
        "# scipy 1.8 버전 이상에서만 실행됩니다.\n",
        "# res = stats.permutation_test((python_books['대출건수'], cplus_books['대출건수']),\n",
        "#                              statistic, random_state=42)\n",
        "# 결과는 약 3.153 0.0258입니다.\n",
        "# print(res.statistic, res.pvalue)"
      ]
    },
    {
      "cell_type": "code",
      "execution_count": null,
      "metadata": {
        "colab": {
          "base_uri": "https://localhost:8080/",
          "height": 369
        },
        "id": "w_FxyhAa-1tv",
        "outputId": "c990aefd-b38f-4ee7-8935-ef2438ab07e8"
      },
      "outputs": [
        {
          "data": {
            "text/html": [
              "<div>\n",
              "<style scoped>\n",
              "    .dataframe tbody tr th:only-of-type {\n",
              "        vertical-align: middle;\n",
              "    }\n",
              "\n",
              "    .dataframe tbody tr th {\n",
              "        vertical-align: top;\n",
              "    }\n",
              "\n",
              "    .dataframe thead th {\n",
              "        text-align: right;\n",
              "    }\n",
              "</style>\n",
              "<table border=\"1\" class=\"dataframe\">\n",
              "  <thead>\n",
              "    <tr style=\"text-align: right;\">\n",
              "      <th></th>\n",
              "      <th>번호</th>\n",
              "      <th>도서명</th>\n",
              "      <th>저자</th>\n",
              "      <th>출판사</th>\n",
              "      <th>발행년도</th>\n",
              "      <th>ISBN</th>\n",
              "      <th>세트 ISBN</th>\n",
              "      <th>부가기호</th>\n",
              "      <th>권</th>\n",
              "      <th>주제분류번호</th>\n",
              "      <th>도서권수</th>\n",
              "      <th>대출건수</th>\n",
              "      <th>등록일자</th>\n",
              "    </tr>\n",
              "  </thead>\n",
              "  <tbody>\n",
              "    <tr>\n",
              "      <th>1030</th>\n",
              "      <td>1049</td>\n",
              "      <td>자바스크립트로 하는 자료 구조와 알고리즘 (핵심 자료 구조 및 알고리즘을 이해하고 ...</td>\n",
              "      <td>&lt;b&gt;배세민&lt;/b&gt;</td>\n",
              "      <td>에이콘</td>\n",
              "      <td>2019</td>\n",
              "      <td>9791161753447</td>\n",
              "      <td>NaN</td>\n",
              "      <td>NaN</td>\n",
              "      <td>NaN</td>\n",
              "      <td>005.138</td>\n",
              "      <td>1</td>\n",
              "      <td>1</td>\n",
              "      <td>2021-03-09</td>\n",
              "    </tr>\n",
              "    <tr>\n",
              "      <th>2521</th>\n",
              "      <td>2627</td>\n",
              "      <td>프레임워크 없는 프론트엔드 개발 (자바스크립트 프레임워크 뜯어보기)</td>\n",
              "      <td>프란세스코 스트라츨로</td>\n",
              "      <td>에이콘출판</td>\n",
              "      <td>2021</td>\n",
              "      <td>9791161754895</td>\n",
              "      <td>NaN</td>\n",
              "      <td>NaN</td>\n",
              "      <td>NaN</td>\n",
              "      <td>005.138</td>\n",
              "      <td>1</td>\n",
              "      <td>1</td>\n",
              "      <td>2021-02-08</td>\n",
              "    </tr>\n",
              "    <tr>\n",
              "      <th>4989</th>\n",
              "      <td>5330</td>\n",
              "      <td>(ES6로 기초부터 다시 배우는) 자바스크립트 파워북</td>\n",
              "      <td>어포스트 지음</td>\n",
              "      <td>어포스트</td>\n",
              "      <td>2020</td>\n",
              "      <td>9791197122811</td>\n",
              "      <td>NaN</td>\n",
              "      <td>9</td>\n",
              "      <td>NaN</td>\n",
              "      <td>005.133</td>\n",
              "      <td>1</td>\n",
              "      <td>4</td>\n",
              "      <td>2020-10-19</td>\n",
              "    </tr>\n",
              "    <tr>\n",
              "      <th>4997</th>\n",
              "      <td>5338</td>\n",
              "      <td>모던 자바스크립트 deep dive :자바스크립트의 기본 개념과 동작 원리</td>\n",
              "      <td>이웅모 지음</td>\n",
              "      <td>위키북스</td>\n",
              "      <td>2020</td>\n",
              "      <td>9791158392239</td>\n",
              "      <td>NaN</td>\n",
              "      <td>9</td>\n",
              "      <td>NaN</td>\n",
              "      <td>005.138</td>\n",
              "      <td>1</td>\n",
              "      <td>4</td>\n",
              "      <td>2020-10-19</td>\n",
              "    </tr>\n",
              "    <tr>\n",
              "      <th>14028</th>\n",
              "      <td>14759</td>\n",
              "      <td>(자바스크립트와 함께하는) 블록체인 코딩 :JavaScript와node.js로 분산...</td>\n",
              "      <td>Eric Traub 지음 ;금창섭,안휘,이재준 옮김</td>\n",
              "      <td>홍릉과학출판사</td>\n",
              "      <td>2020</td>\n",
              "      <td>9791156007043</td>\n",
              "      <td>NaN</td>\n",
              "      <td>9</td>\n",
              "      <td>NaN</td>\n",
              "      <td>005.1</td>\n",
              "      <td>1</td>\n",
              "      <td>4</td>\n",
              "      <td>2020-04-20</td>\n",
              "    </tr>\n",
              "  </tbody>\n",
              "</table>\n",
              "</div>"
            ],
            "text/plain": [
              "          번호                                                도서명  \\\n",
              "1030    1049  자바스크립트로 하는 자료 구조와 알고리즘 (핵심 자료 구조 및 알고리즘을 이해하고 ...   \n",
              "2521    2627              프레임워크 없는 프론트엔드 개발 (자바스크립트 프레임워크 뜯어보기)   \n",
              "4989    5330                     (ES6로 기초부터 다시 배우는) 자바스크립트 파워북    \n",
              "4997    5338         모던 자바스크립트 deep dive :자바스크립트의 기본 개념과 동작 원리    \n",
              "14028  14759  (자바스크립트와 함께하는) 블록체인 코딩 :JavaScript와node.js로 분산...   \n",
              "\n",
              "                                 저자      출판사  발행년도           ISBN 세트 ISBN  \\\n",
              "1030                     <b>배세민</b>      에이콘  2019  9791161753447     NaN   \n",
              "2521                    프란세스코 스트라츨로    에이콘출판  2021  9791161754895     NaN   \n",
              "4989                        어포스트 지음     어포스트  2020  9791197122811     NaN   \n",
              "4997                         이웅모 지음     위키북스  2020  9791158392239     NaN   \n",
              "14028  Eric Traub 지음 ;금창섭,안휘,이재준 옮김  홍릉과학출판사  2020  9791156007043     NaN   \n",
              "\n",
              "      부가기호    권   주제분류번호  도서권수  대출건수        등록일자  \n",
              "1030   NaN  NaN  005.138     1     1  2021-03-09  \n",
              "2521   NaN  NaN  005.138     1     1  2021-02-08  \n",
              "4989     9  NaN  005.133     1     4  2020-10-19  \n",
              "4997     9  NaN  005.138     1     4  2020-10-19  \n",
              "14028    9  NaN    005.1     1     4  2020-04-20  "
            ]
          },
          "execution_count": 36,
          "metadata": {},
          "output_type": "execute_result"
        }
      ],
      "source": [
        "java_books_indx = ns_book7['주제분류번호'].str.startswith('00') & \\\n",
        "                  ns_book7['도서명'].str.contains('자바스크립트')\n",
        "java_books = ns_book7[java_books_indx]\n",
        "java_books.head()"
      ]
    },
    {
      "cell_type": "code",
      "execution_count": null,
      "metadata": {
        "colab": {
          "base_uri": "https://localhost:8080/"
        },
        "id": "E4o7ZVPzCDwq",
        "outputId": "68d2b129-79b5-4aba-a3e6-31a08432b909"
      },
      "outputs": [
        {
          "name": "stdout",
          "output_type": "stream",
          "text": [
            "105 15.533333333333333\n"
          ]
        }
      ],
      "source": [
        "print(len(java_books), np.mean(java_books['대출건수']))"
      ]
    },
    {
      "cell_type": "code",
      "execution_count": null,
      "metadata": {
        "colab": {
          "base_uri": "https://localhost:8080/"
        },
        "id": "5jR5wa2Jhlf7",
        "outputId": "98d458ec-25b3-4a95-8cbf-4b9ac6228dc5"
      },
      "outputs": [
        {
          "data": {
            "text/plain": [
              "(-0.7843293492695889, 0.566)"
            ]
          },
          "execution_count": 38,
          "metadata": {},
          "output_type": "execute_result"
        }
      ],
      "source": [
        "permutation_test(python_books['대출건수'], java_books['대출건수'])"
      ]
    }
  ],
  "metadata": {
    "colab": {
      "provenance": []
    },
    "kernelspec": {
      "display_name": "Python 3",
      "language": "python",
      "name": "python3"
    },
    "language_info": {
      "codemirror_mode": {
        "name": "ipython",
        "version": 3
      },
      "file_extension": ".py",
      "mimetype": "text/x-python",
      "name": "python",
      "nbconvert_exporter": "python",
      "pygments_lexer": "ipython3",
      "version": "3.7.3"
    }
  },
  "nbformat": 4,
  "nbformat_minor": 0
}