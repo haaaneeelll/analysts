{
  "cells": [
    {
      "cell_type": "markdown",
      "id": "f9ea6ec8",
      "metadata": {
        "id": "f9ea6ec8"
      },
      "source": [
        "# 04-1 통계로 요약하기"
      ]
    },
    {
      "cell_type": "markdown",
      "id": "e6603670",
      "metadata": {
        "id": "e6603670"
      },
      "source": [
        "<table class=\"tfo-notebook-buttons\" align=\"left\">\n",
        "  <td>\n",
        "    <a target=\"_blank\" href=\"https://nbviewer.jupyter.org/github/rickiepark/hg-da/blob/main/04-1.ipynb\"><img src=\"https://jupyter.org/assets/share.png\" width=\"61\" />주피터 노트북 뷰어로 보기</a>\n",
        "  </td>\n",
        "  <td>\n",
        "    <a target=\"_blank\" href=\"https://colab.research.google.com/github/rickiepark/hg-da/blob/main/04-1.ipynb\"><img src=\"https://www.tensorflow.org/images/colab_logo_32px.png\" />구글 코랩(Colab)에서 실행하기</a>\n",
        "  </td>\n",
        "</table>"
      ]
    },
    {
      "cell_type": "markdown",
      "id": "2808d3b5",
      "metadata": {
        "id": "2808d3b5"
      },
      "source": [
        "## 기술통계 구하기"
      ]
    },
    {
      "cell_type": "code",
      "execution_count": null,
      "id": "dec4d531",
      "metadata": {
        "id": "dec4d531",
        "outputId": "205c28e0-b6ff-4a54-b9eb-b0595c7c6969",
        "colab": {
          "base_uri": "https://localhost:8080/",
          "height": 107
        }
      },
      "outputs": [
        {
          "output_type": "stream",
          "name": "stderr",
          "text": [
            "Downloading...\n",
            "From: https://bit.ly/3736JW1\n",
            "To: /content/ns_book6.csv\n",
            "100%|██████████| 55.0M/55.0M [00:00<00:00, 95.8MB/s]\n"
          ]
        },
        {
          "output_type": "execute_result",
          "data": {
            "text/plain": [
              "'ns_book6.csv'"
            ],
            "application/vnd.google.colaboratory.intrinsic+json": {
              "type": "string"
            }
          },
          "metadata": {},
          "execution_count": 1
        }
      ],
      "source": [
        "import gdown\n",
        "\n",
        "gdown.download('https://bit.ly/3736JW1', 'ns_book6.csv', quiet=False)"
      ]
    },
    {
      "cell_type": "code",
      "execution_count": null,
      "id": "158388b2",
      "metadata": {
        "id": "158388b2",
        "outputId": "b1886ab3-94d2-4509-e617-dae2a3c13841",
        "colab": {
          "base_uri": "https://localhost:8080/",
          "height": 354
        }
      },
      "outputs": [
        {
          "output_type": "execute_result",
          "data": {
            "text/plain": [
              "   번호                    도서명                저자    출판사    발행년도           ISBN  \\\n",
              "0   1                인공지능과 흙            김동훈 지음    민음사  2021.0  9788937444319   \n",
              "1   2           가짜 행복 권하는 사회            김태형 지음   갈매나무  2021.0  9791190123969   \n",
              "2   3  나도 한 문장 잘 쓰면 바랄 게 없겠네            김선영 지음   블랙피쉬  2021.0  9788968332982   \n",
              "3   4                예루살렘 해변  이도 게펜 지음, 임재희 옮김  문학세계사  2021.0  9788970759906   \n",
              "4   5  김성곤의 중국한시기행 : 장강·황하 편            김성곤 지음    김영사  2021.0  9788934990833   \n",
              "\n",
              "  세트 ISBN 부가기호    권 주제분류번호  도서권수  대출건수        등록일자  \n",
              "0     NaN  NaN  NaN    NaN     1     0  2021-03-19  \n",
              "1     NaN  NaN  NaN    NaN     1     0  2021-03-19  \n",
              "2     NaN  NaN  NaN    NaN     1     0  2021-03-19  \n",
              "3     NaN  NaN  NaN    NaN     1     0  2021-03-19  \n",
              "4     NaN  NaN  NaN    NaN     1     0  2021-03-19  "
            ],
            "text/html": [
              "\n",
              "  <div id=\"df-3c82f253-6bc3-47bf-9e5d-43cc5c587f7f\">\n",
              "    <div class=\"colab-df-container\">\n",
              "      <div>\n",
              "<style scoped>\n",
              "    .dataframe tbody tr th:only-of-type {\n",
              "        vertical-align: middle;\n",
              "    }\n",
              "\n",
              "    .dataframe tbody tr th {\n",
              "        vertical-align: top;\n",
              "    }\n",
              "\n",
              "    .dataframe thead th {\n",
              "        text-align: right;\n",
              "    }\n",
              "</style>\n",
              "<table border=\"1\" class=\"dataframe\">\n",
              "  <thead>\n",
              "    <tr style=\"text-align: right;\">\n",
              "      <th></th>\n",
              "      <th>번호</th>\n",
              "      <th>도서명</th>\n",
              "      <th>저자</th>\n",
              "      <th>출판사</th>\n",
              "      <th>발행년도</th>\n",
              "      <th>ISBN</th>\n",
              "      <th>세트 ISBN</th>\n",
              "      <th>부가기호</th>\n",
              "      <th>권</th>\n",
              "      <th>주제분류번호</th>\n",
              "      <th>도서권수</th>\n",
              "      <th>대출건수</th>\n",
              "      <th>등록일자</th>\n",
              "    </tr>\n",
              "  </thead>\n",
              "  <tbody>\n",
              "    <tr>\n",
              "      <th>0</th>\n",
              "      <td>1</td>\n",
              "      <td>인공지능과 흙</td>\n",
              "      <td>김동훈 지음</td>\n",
              "      <td>민음사</td>\n",
              "      <td>2021.0</td>\n",
              "      <td>9788937444319</td>\n",
              "      <td>NaN</td>\n",
              "      <td>NaN</td>\n",
              "      <td>NaN</td>\n",
              "      <td>NaN</td>\n",
              "      <td>1</td>\n",
              "      <td>0</td>\n",
              "      <td>2021-03-19</td>\n",
              "    </tr>\n",
              "    <tr>\n",
              "      <th>1</th>\n",
              "      <td>2</td>\n",
              "      <td>가짜 행복 권하는 사회</td>\n",
              "      <td>김태형 지음</td>\n",
              "      <td>갈매나무</td>\n",
              "      <td>2021.0</td>\n",
              "      <td>9791190123969</td>\n",
              "      <td>NaN</td>\n",
              "      <td>NaN</td>\n",
              "      <td>NaN</td>\n",
              "      <td>NaN</td>\n",
              "      <td>1</td>\n",
              "      <td>0</td>\n",
              "      <td>2021-03-19</td>\n",
              "    </tr>\n",
              "    <tr>\n",
              "      <th>2</th>\n",
              "      <td>3</td>\n",
              "      <td>나도 한 문장 잘 쓰면 바랄 게 없겠네</td>\n",
              "      <td>김선영 지음</td>\n",
              "      <td>블랙피쉬</td>\n",
              "      <td>2021.0</td>\n",
              "      <td>9788968332982</td>\n",
              "      <td>NaN</td>\n",
              "      <td>NaN</td>\n",
              "      <td>NaN</td>\n",
              "      <td>NaN</td>\n",
              "      <td>1</td>\n",
              "      <td>0</td>\n",
              "      <td>2021-03-19</td>\n",
              "    </tr>\n",
              "    <tr>\n",
              "      <th>3</th>\n",
              "      <td>4</td>\n",
              "      <td>예루살렘 해변</td>\n",
              "      <td>이도 게펜 지음, 임재희 옮김</td>\n",
              "      <td>문학세계사</td>\n",
              "      <td>2021.0</td>\n",
              "      <td>9788970759906</td>\n",
              "      <td>NaN</td>\n",
              "      <td>NaN</td>\n",
              "      <td>NaN</td>\n",
              "      <td>NaN</td>\n",
              "      <td>1</td>\n",
              "      <td>0</td>\n",
              "      <td>2021-03-19</td>\n",
              "    </tr>\n",
              "    <tr>\n",
              "      <th>4</th>\n",
              "      <td>5</td>\n",
              "      <td>김성곤의 중국한시기행 : 장강·황하 편</td>\n",
              "      <td>김성곤 지음</td>\n",
              "      <td>김영사</td>\n",
              "      <td>2021.0</td>\n",
              "      <td>9788934990833</td>\n",
              "      <td>NaN</td>\n",
              "      <td>NaN</td>\n",
              "      <td>NaN</td>\n",
              "      <td>NaN</td>\n",
              "      <td>1</td>\n",
              "      <td>0</td>\n",
              "      <td>2021-03-19</td>\n",
              "    </tr>\n",
              "  </tbody>\n",
              "</table>\n",
              "</div>\n",
              "      <button class=\"colab-df-convert\" onclick=\"convertToInteractive('df-3c82f253-6bc3-47bf-9e5d-43cc5c587f7f')\"\n",
              "              title=\"Convert this dataframe to an interactive table.\"\n",
              "              style=\"display:none;\">\n",
              "        \n",
              "  <svg xmlns=\"http://www.w3.org/2000/svg\" height=\"24px\"viewBox=\"0 0 24 24\"\n",
              "       width=\"24px\">\n",
              "    <path d=\"M0 0h24v24H0V0z\" fill=\"none\"/>\n",
              "    <path d=\"M18.56 5.44l.94 2.06.94-2.06 2.06-.94-2.06-.94-.94-2.06-.94 2.06-2.06.94zm-11 1L8.5 8.5l.94-2.06 2.06-.94-2.06-.94L8.5 2.5l-.94 2.06-2.06.94zm10 10l.94 2.06.94-2.06 2.06-.94-2.06-.94-.94-2.06-.94 2.06-2.06.94z\"/><path d=\"M17.41 7.96l-1.37-1.37c-.4-.4-.92-.59-1.43-.59-.52 0-1.04.2-1.43.59L10.3 9.45l-7.72 7.72c-.78.78-.78 2.05 0 2.83L4 21.41c.39.39.9.59 1.41.59.51 0 1.02-.2 1.41-.59l7.78-7.78 2.81-2.81c.8-.78.8-2.07 0-2.86zM5.41 20L4 18.59l7.72-7.72 1.47 1.35L5.41 20z\"/>\n",
              "  </svg>\n",
              "      </button>\n",
              "      \n",
              "  <style>\n",
              "    .colab-df-container {\n",
              "      display:flex;\n",
              "      flex-wrap:wrap;\n",
              "      gap: 12px;\n",
              "    }\n",
              "\n",
              "    .colab-df-convert {\n",
              "      background-color: #E8F0FE;\n",
              "      border: none;\n",
              "      border-radius: 50%;\n",
              "      cursor: pointer;\n",
              "      display: none;\n",
              "      fill: #1967D2;\n",
              "      height: 32px;\n",
              "      padding: 0 0 0 0;\n",
              "      width: 32px;\n",
              "    }\n",
              "\n",
              "    .colab-df-convert:hover {\n",
              "      background-color: #E2EBFA;\n",
              "      box-shadow: 0px 1px 2px rgba(60, 64, 67, 0.3), 0px 1px 3px 1px rgba(60, 64, 67, 0.15);\n",
              "      fill: #174EA6;\n",
              "    }\n",
              "\n",
              "    [theme=dark] .colab-df-convert {\n",
              "      background-color: #3B4455;\n",
              "      fill: #D2E3FC;\n",
              "    }\n",
              "\n",
              "    [theme=dark] .colab-df-convert:hover {\n",
              "      background-color: #434B5C;\n",
              "      box-shadow: 0px 1px 3px 1px rgba(0, 0, 0, 0.15);\n",
              "      filter: drop-shadow(0px 1px 2px rgba(0, 0, 0, 0.3));\n",
              "      fill: #FFFFFF;\n",
              "    }\n",
              "  </style>\n",
              "\n",
              "      <script>\n",
              "        const buttonEl =\n",
              "          document.querySelector('#df-3c82f253-6bc3-47bf-9e5d-43cc5c587f7f button.colab-df-convert');\n",
              "        buttonEl.style.display =\n",
              "          google.colab.kernel.accessAllowed ? 'block' : 'none';\n",
              "\n",
              "        async function convertToInteractive(key) {\n",
              "          const element = document.querySelector('#df-3c82f253-6bc3-47bf-9e5d-43cc5c587f7f');\n",
              "          const dataTable =\n",
              "            await google.colab.kernel.invokeFunction('convertToInteractive',\n",
              "                                                     [key], {});\n",
              "          if (!dataTable) return;\n",
              "\n",
              "          const docLinkHtml = 'Like what you see? Visit the ' +\n",
              "            '<a target=\"_blank\" href=https://colab.research.google.com/notebooks/data_table.ipynb>data table notebook</a>'\n",
              "            + ' to learn more about interactive tables.';\n",
              "          element.innerHTML = '';\n",
              "          dataTable['output_type'] = 'display_data';\n",
              "          await google.colab.output.renderOutput(dataTable, element);\n",
              "          const docLink = document.createElement('div');\n",
              "          docLink.innerHTML = docLinkHtml;\n",
              "          element.appendChild(docLink);\n",
              "        }\n",
              "      </script>\n",
              "    </div>\n",
              "  </div>\n",
              "  "
            ]
          },
          "metadata": {},
          "execution_count": 2
        }
      ],
      "source": [
        "import pandas as pd\n",
        "\n",
        "ns_book6 = pd.read_csv('ns_book6.csv', low_memory=False)\n",
        "ns_book6.head()"
      ]
    },
    {
      "cell_type": "code",
      "execution_count": null,
      "id": "2af026e1",
      "metadata": {
        "scrolled": true,
        "id": "2af026e1",
        "outputId": "4a84110c-cbb5-4198-c850-7c0fdc834772",
        "colab": {
          "base_uri": "https://localhost:8080/",
          "height": 300
        }
      },
      "outputs": [
        {
          "output_type": "execute_result",
          "data": {
            "text/plain": [
              "                  번호           발행년도           도서권수           대출건수\n",
              "count  379976.000000  379976.000000  379976.000000  379976.000000\n",
              "mean   201726.332847    2008.516306       1.135874      11.504629\n",
              "std    115836.454596       8.780529       0.483343      19.241926\n",
              "min         1.000000    1947.000000       0.000000       0.000000\n",
              "25%    102202.750000    2003.000000       1.000000       2.000000\n",
              "50%    203179.500000    2009.000000       1.000000       6.000000\n",
              "75%    301630.250000    2015.000000       1.000000      14.000000\n",
              "max    401681.000000    2650.000000      40.000000    1765.000000"
            ],
            "text/html": [
              "\n",
              "  <div id=\"df-8337730a-7a57-40f2-9398-551c539c6d50\">\n",
              "    <div class=\"colab-df-container\">\n",
              "      <div>\n",
              "<style scoped>\n",
              "    .dataframe tbody tr th:only-of-type {\n",
              "        vertical-align: middle;\n",
              "    }\n",
              "\n",
              "    .dataframe tbody tr th {\n",
              "        vertical-align: top;\n",
              "    }\n",
              "\n",
              "    .dataframe thead th {\n",
              "        text-align: right;\n",
              "    }\n",
              "</style>\n",
              "<table border=\"1\" class=\"dataframe\">\n",
              "  <thead>\n",
              "    <tr style=\"text-align: right;\">\n",
              "      <th></th>\n",
              "      <th>번호</th>\n",
              "      <th>발행년도</th>\n",
              "      <th>도서권수</th>\n",
              "      <th>대출건수</th>\n",
              "    </tr>\n",
              "  </thead>\n",
              "  <tbody>\n",
              "    <tr>\n",
              "      <th>count</th>\n",
              "      <td>379976.000000</td>\n",
              "      <td>379976.000000</td>\n",
              "      <td>379976.000000</td>\n",
              "      <td>379976.000000</td>\n",
              "    </tr>\n",
              "    <tr>\n",
              "      <th>mean</th>\n",
              "      <td>201726.332847</td>\n",
              "      <td>2008.516306</td>\n",
              "      <td>1.135874</td>\n",
              "      <td>11.504629</td>\n",
              "    </tr>\n",
              "    <tr>\n",
              "      <th>std</th>\n",
              "      <td>115836.454596</td>\n",
              "      <td>8.780529</td>\n",
              "      <td>0.483343</td>\n",
              "      <td>19.241926</td>\n",
              "    </tr>\n",
              "    <tr>\n",
              "      <th>min</th>\n",
              "      <td>1.000000</td>\n",
              "      <td>1947.000000</td>\n",
              "      <td>0.000000</td>\n",
              "      <td>0.000000</td>\n",
              "    </tr>\n",
              "    <tr>\n",
              "      <th>25%</th>\n",
              "      <td>102202.750000</td>\n",
              "      <td>2003.000000</td>\n",
              "      <td>1.000000</td>\n",
              "      <td>2.000000</td>\n",
              "    </tr>\n",
              "    <tr>\n",
              "      <th>50%</th>\n",
              "      <td>203179.500000</td>\n",
              "      <td>2009.000000</td>\n",
              "      <td>1.000000</td>\n",
              "      <td>6.000000</td>\n",
              "    </tr>\n",
              "    <tr>\n",
              "      <th>75%</th>\n",
              "      <td>301630.250000</td>\n",
              "      <td>2015.000000</td>\n",
              "      <td>1.000000</td>\n",
              "      <td>14.000000</td>\n",
              "    </tr>\n",
              "    <tr>\n",
              "      <th>max</th>\n",
              "      <td>401681.000000</td>\n",
              "      <td>2650.000000</td>\n",
              "      <td>40.000000</td>\n",
              "      <td>1765.000000</td>\n",
              "    </tr>\n",
              "  </tbody>\n",
              "</table>\n",
              "</div>\n",
              "      <button class=\"colab-df-convert\" onclick=\"convertToInteractive('df-8337730a-7a57-40f2-9398-551c539c6d50')\"\n",
              "              title=\"Convert this dataframe to an interactive table.\"\n",
              "              style=\"display:none;\">\n",
              "        \n",
              "  <svg xmlns=\"http://www.w3.org/2000/svg\" height=\"24px\"viewBox=\"0 0 24 24\"\n",
              "       width=\"24px\">\n",
              "    <path d=\"M0 0h24v24H0V0z\" fill=\"none\"/>\n",
              "    <path d=\"M18.56 5.44l.94 2.06.94-2.06 2.06-.94-2.06-.94-.94-2.06-.94 2.06-2.06.94zm-11 1L8.5 8.5l.94-2.06 2.06-.94-2.06-.94L8.5 2.5l-.94 2.06-2.06.94zm10 10l.94 2.06.94-2.06 2.06-.94-2.06-.94-.94-2.06-.94 2.06-2.06.94z\"/><path d=\"M17.41 7.96l-1.37-1.37c-.4-.4-.92-.59-1.43-.59-.52 0-1.04.2-1.43.59L10.3 9.45l-7.72 7.72c-.78.78-.78 2.05 0 2.83L4 21.41c.39.39.9.59 1.41.59.51 0 1.02-.2 1.41-.59l7.78-7.78 2.81-2.81c.8-.78.8-2.07 0-2.86zM5.41 20L4 18.59l7.72-7.72 1.47 1.35L5.41 20z\"/>\n",
              "  </svg>\n",
              "      </button>\n",
              "      \n",
              "  <style>\n",
              "    .colab-df-container {\n",
              "      display:flex;\n",
              "      flex-wrap:wrap;\n",
              "      gap: 12px;\n",
              "    }\n",
              "\n",
              "    .colab-df-convert {\n",
              "      background-color: #E8F0FE;\n",
              "      border: none;\n",
              "      border-radius: 50%;\n",
              "      cursor: pointer;\n",
              "      display: none;\n",
              "      fill: #1967D2;\n",
              "      height: 32px;\n",
              "      padding: 0 0 0 0;\n",
              "      width: 32px;\n",
              "    }\n",
              "\n",
              "    .colab-df-convert:hover {\n",
              "      background-color: #E2EBFA;\n",
              "      box-shadow: 0px 1px 2px rgba(60, 64, 67, 0.3), 0px 1px 3px 1px rgba(60, 64, 67, 0.15);\n",
              "      fill: #174EA6;\n",
              "    }\n",
              "\n",
              "    [theme=dark] .colab-df-convert {\n",
              "      background-color: #3B4455;\n",
              "      fill: #D2E3FC;\n",
              "    }\n",
              "\n",
              "    [theme=dark] .colab-df-convert:hover {\n",
              "      background-color: #434B5C;\n",
              "      box-shadow: 0px 1px 3px 1px rgba(0, 0, 0, 0.15);\n",
              "      filter: drop-shadow(0px 1px 2px rgba(0, 0, 0, 0.3));\n",
              "      fill: #FFFFFF;\n",
              "    }\n",
              "  </style>\n",
              "\n",
              "      <script>\n",
              "        const buttonEl =\n",
              "          document.querySelector('#df-8337730a-7a57-40f2-9398-551c539c6d50 button.colab-df-convert');\n",
              "        buttonEl.style.display =\n",
              "          google.colab.kernel.accessAllowed ? 'block' : 'none';\n",
              "\n",
              "        async function convertToInteractive(key) {\n",
              "          const element = document.querySelector('#df-8337730a-7a57-40f2-9398-551c539c6d50');\n",
              "          const dataTable =\n",
              "            await google.colab.kernel.invokeFunction('convertToInteractive',\n",
              "                                                     [key], {});\n",
              "          if (!dataTable) return;\n",
              "\n",
              "          const docLinkHtml = 'Like what you see? Visit the ' +\n",
              "            '<a target=\"_blank\" href=https://colab.research.google.com/notebooks/data_table.ipynb>data table notebook</a>'\n",
              "            + ' to learn more about interactive tables.';\n",
              "          element.innerHTML = '';\n",
              "          dataTable['output_type'] = 'display_data';\n",
              "          await google.colab.output.renderOutput(dataTable, element);\n",
              "          const docLink = document.createElement('div');\n",
              "          docLink.innerHTML = docLinkHtml;\n",
              "          element.appendChild(docLink);\n",
              "        }\n",
              "      </script>\n",
              "    </div>\n",
              "  </div>\n",
              "  "
            ]
          },
          "metadata": {},
          "execution_count": 3
        }
      ],
      "source": [
        "ns_book6.describe()"
      ]
    },
    {
      "cell_type": "code",
      "execution_count": null,
      "id": "2b7c01bf",
      "metadata": {
        "id": "2b7c01bf",
        "outputId": "481da6f5-b4ab-4ee4-bf5f-b23d63f3d07d",
        "colab": {
          "base_uri": "https://localhost:8080/"
        }
      },
      "outputs": [
        {
          "output_type": "execute_result",
          "data": {
            "text/plain": [
              "3206"
            ]
          },
          "metadata": {},
          "execution_count": 4
        }
      ],
      "source": [
        "sum(ns_book6['도서권수']==0)"
      ]
    },
    {
      "cell_type": "code",
      "execution_count": null,
      "id": "16d05599",
      "metadata": {
        "id": "16d05599"
      },
      "outputs": [],
      "source": [
        "ns_book7 = ns_book6[ns_book6['도서권수']>0]"
      ]
    },
    {
      "cell_type": "code",
      "execution_count": null,
      "id": "af207f47",
      "metadata": {
        "id": "af207f47",
        "outputId": "c71a10fd-417f-4024-8b13-0cd0137d3089",
        "colab": {
          "base_uri": "https://localhost:8080/",
          "height": 331
        }
      },
      "outputs": [
        {
          "output_type": "execute_result",
          "data": {
            "text/plain": [
              "                  번호           발행년도           도서권수           대출건수\n",
              "count  376770.000000  376770.000000  376770.000000  376770.000000\n",
              "mean   202977.476649    2008.460076       1.145540      11.593439\n",
              "std    115298.245784       8.773148       0.473853      19.279409\n",
              "min         1.000000    1947.000000       1.000000       0.000000\n",
              "30%    124649.700000    2004.000000       1.000000       2.000000\n",
              "50%    204550.500000    2009.000000       1.000000       6.000000\n",
              "60%    243537.400000    2011.000000       1.000000       8.000000\n",
              "90%    361341.100000    2018.000000       2.000000      28.000000\n",
              "max    401681.000000    2650.000000      40.000000    1765.000000"
            ],
            "text/html": [
              "\n",
              "  <div id=\"df-defeda40-ccf4-44b0-aa58-888d685637db\">\n",
              "    <div class=\"colab-df-container\">\n",
              "      <div>\n",
              "<style scoped>\n",
              "    .dataframe tbody tr th:only-of-type {\n",
              "        vertical-align: middle;\n",
              "    }\n",
              "\n",
              "    .dataframe tbody tr th {\n",
              "        vertical-align: top;\n",
              "    }\n",
              "\n",
              "    .dataframe thead th {\n",
              "        text-align: right;\n",
              "    }\n",
              "</style>\n",
              "<table border=\"1\" class=\"dataframe\">\n",
              "  <thead>\n",
              "    <tr style=\"text-align: right;\">\n",
              "      <th></th>\n",
              "      <th>번호</th>\n",
              "      <th>발행년도</th>\n",
              "      <th>도서권수</th>\n",
              "      <th>대출건수</th>\n",
              "    </tr>\n",
              "  </thead>\n",
              "  <tbody>\n",
              "    <tr>\n",
              "      <th>count</th>\n",
              "      <td>376770.000000</td>\n",
              "      <td>376770.000000</td>\n",
              "      <td>376770.000000</td>\n",
              "      <td>376770.000000</td>\n",
              "    </tr>\n",
              "    <tr>\n",
              "      <th>mean</th>\n",
              "      <td>202977.476649</td>\n",
              "      <td>2008.460076</td>\n",
              "      <td>1.145540</td>\n",
              "      <td>11.593439</td>\n",
              "    </tr>\n",
              "    <tr>\n",
              "      <th>std</th>\n",
              "      <td>115298.245784</td>\n",
              "      <td>8.773148</td>\n",
              "      <td>0.473853</td>\n",
              "      <td>19.279409</td>\n",
              "    </tr>\n",
              "    <tr>\n",
              "      <th>min</th>\n",
              "      <td>1.000000</td>\n",
              "      <td>1947.000000</td>\n",
              "      <td>1.000000</td>\n",
              "      <td>0.000000</td>\n",
              "    </tr>\n",
              "    <tr>\n",
              "      <th>30%</th>\n",
              "      <td>124649.700000</td>\n",
              "      <td>2004.000000</td>\n",
              "      <td>1.000000</td>\n",
              "      <td>2.000000</td>\n",
              "    </tr>\n",
              "    <tr>\n",
              "      <th>50%</th>\n",
              "      <td>204550.500000</td>\n",
              "      <td>2009.000000</td>\n",
              "      <td>1.000000</td>\n",
              "      <td>6.000000</td>\n",
              "    </tr>\n",
              "    <tr>\n",
              "      <th>60%</th>\n",
              "      <td>243537.400000</td>\n",
              "      <td>2011.000000</td>\n",
              "      <td>1.000000</td>\n",
              "      <td>8.000000</td>\n",
              "    </tr>\n",
              "    <tr>\n",
              "      <th>90%</th>\n",
              "      <td>361341.100000</td>\n",
              "      <td>2018.000000</td>\n",
              "      <td>2.000000</td>\n",
              "      <td>28.000000</td>\n",
              "    </tr>\n",
              "    <tr>\n",
              "      <th>max</th>\n",
              "      <td>401681.000000</td>\n",
              "      <td>2650.000000</td>\n",
              "      <td>40.000000</td>\n",
              "      <td>1765.000000</td>\n",
              "    </tr>\n",
              "  </tbody>\n",
              "</table>\n",
              "</div>\n",
              "      <button class=\"colab-df-convert\" onclick=\"convertToInteractive('df-defeda40-ccf4-44b0-aa58-888d685637db')\"\n",
              "              title=\"Convert this dataframe to an interactive table.\"\n",
              "              style=\"display:none;\">\n",
              "        \n",
              "  <svg xmlns=\"http://www.w3.org/2000/svg\" height=\"24px\"viewBox=\"0 0 24 24\"\n",
              "       width=\"24px\">\n",
              "    <path d=\"M0 0h24v24H0V0z\" fill=\"none\"/>\n",
              "    <path d=\"M18.56 5.44l.94 2.06.94-2.06 2.06-.94-2.06-.94-.94-2.06-.94 2.06-2.06.94zm-11 1L8.5 8.5l.94-2.06 2.06-.94-2.06-.94L8.5 2.5l-.94 2.06-2.06.94zm10 10l.94 2.06.94-2.06 2.06-.94-2.06-.94-.94-2.06-.94 2.06-2.06.94z\"/><path d=\"M17.41 7.96l-1.37-1.37c-.4-.4-.92-.59-1.43-.59-.52 0-1.04.2-1.43.59L10.3 9.45l-7.72 7.72c-.78.78-.78 2.05 0 2.83L4 21.41c.39.39.9.59 1.41.59.51 0 1.02-.2 1.41-.59l7.78-7.78 2.81-2.81c.8-.78.8-2.07 0-2.86zM5.41 20L4 18.59l7.72-7.72 1.47 1.35L5.41 20z\"/>\n",
              "  </svg>\n",
              "      </button>\n",
              "      \n",
              "  <style>\n",
              "    .colab-df-container {\n",
              "      display:flex;\n",
              "      flex-wrap:wrap;\n",
              "      gap: 12px;\n",
              "    }\n",
              "\n",
              "    .colab-df-convert {\n",
              "      background-color: #E8F0FE;\n",
              "      border: none;\n",
              "      border-radius: 50%;\n",
              "      cursor: pointer;\n",
              "      display: none;\n",
              "      fill: #1967D2;\n",
              "      height: 32px;\n",
              "      padding: 0 0 0 0;\n",
              "      width: 32px;\n",
              "    }\n",
              "\n",
              "    .colab-df-convert:hover {\n",
              "      background-color: #E2EBFA;\n",
              "      box-shadow: 0px 1px 2px rgba(60, 64, 67, 0.3), 0px 1px 3px 1px rgba(60, 64, 67, 0.15);\n",
              "      fill: #174EA6;\n",
              "    }\n",
              "\n",
              "    [theme=dark] .colab-df-convert {\n",
              "      background-color: #3B4455;\n",
              "      fill: #D2E3FC;\n",
              "    }\n",
              "\n",
              "    [theme=dark] .colab-df-convert:hover {\n",
              "      background-color: #434B5C;\n",
              "      box-shadow: 0px 1px 3px 1px rgba(0, 0, 0, 0.15);\n",
              "      filter: drop-shadow(0px 1px 2px rgba(0, 0, 0, 0.3));\n",
              "      fill: #FFFFFF;\n",
              "    }\n",
              "  </style>\n",
              "\n",
              "      <script>\n",
              "        const buttonEl =\n",
              "          document.querySelector('#df-defeda40-ccf4-44b0-aa58-888d685637db button.colab-df-convert');\n",
              "        buttonEl.style.display =\n",
              "          google.colab.kernel.accessAllowed ? 'block' : 'none';\n",
              "\n",
              "        async function convertToInteractive(key) {\n",
              "          const element = document.querySelector('#df-defeda40-ccf4-44b0-aa58-888d685637db');\n",
              "          const dataTable =\n",
              "            await google.colab.kernel.invokeFunction('convertToInteractive',\n",
              "                                                     [key], {});\n",
              "          if (!dataTable) return;\n",
              "\n",
              "          const docLinkHtml = 'Like what you see? Visit the ' +\n",
              "            '<a target=\"_blank\" href=https://colab.research.google.com/notebooks/data_table.ipynb>data table notebook</a>'\n",
              "            + ' to learn more about interactive tables.';\n",
              "          element.innerHTML = '';\n",
              "          dataTable['output_type'] = 'display_data';\n",
              "          await google.colab.output.renderOutput(dataTable, element);\n",
              "          const docLink = document.createElement('div');\n",
              "          docLink.innerHTML = docLinkHtml;\n",
              "          element.appendChild(docLink);\n",
              "        }\n",
              "      </script>\n",
              "    </div>\n",
              "  </div>\n",
              "  "
            ]
          },
          "metadata": {},
          "execution_count": 6
        }
      ],
      "source": [
        "ns_book7.describe(percentiles=[0.3, 0.6, 0.9])"
      ]
    },
    {
      "cell_type": "code",
      "execution_count": null,
      "id": "9b84ae82",
      "metadata": {
        "id": "9b84ae82",
        "outputId": "50fc4fa4-fd60-44d0-9408-68be4688d869",
        "colab": {
          "base_uri": "https://localhost:8080/",
          "height": 175
        }
      },
      "outputs": [
        {
          "output_type": "execute_result",
          "data": {
            "text/plain": [
              "           도서명             저자     출판사           ISBN        세트 ISBN    부가기호  \\\n",
              "count   376770         376770  376770         376770          55866  308252   \n",
              "unique  336408         248850   21875         350810          14875      17   \n",
              "top      승정원일기  세종대왕기념사업회 [편]    문학동네  9788937430299  9788937460005       0   \n",
              "freq       250            303    4410            206            702  158235   \n",
              "\n",
              "            권  주제분류번호        등록일자  \n",
              "count   61793  359792      376770  \n",
              "unique    834   12467        4562  \n",
              "top         1   813.6  1970-01-01  \n",
              "freq    13282   14816       28185  "
            ],
            "text/html": [
              "\n",
              "  <div id=\"df-468b3579-e7de-4bb9-90d1-325944a54a2b\">\n",
              "    <div class=\"colab-df-container\">\n",
              "      <div>\n",
              "<style scoped>\n",
              "    .dataframe tbody tr th:only-of-type {\n",
              "        vertical-align: middle;\n",
              "    }\n",
              "\n",
              "    .dataframe tbody tr th {\n",
              "        vertical-align: top;\n",
              "    }\n",
              "\n",
              "    .dataframe thead th {\n",
              "        text-align: right;\n",
              "    }\n",
              "</style>\n",
              "<table border=\"1\" class=\"dataframe\">\n",
              "  <thead>\n",
              "    <tr style=\"text-align: right;\">\n",
              "      <th></th>\n",
              "      <th>도서명</th>\n",
              "      <th>저자</th>\n",
              "      <th>출판사</th>\n",
              "      <th>ISBN</th>\n",
              "      <th>세트 ISBN</th>\n",
              "      <th>부가기호</th>\n",
              "      <th>권</th>\n",
              "      <th>주제분류번호</th>\n",
              "      <th>등록일자</th>\n",
              "    </tr>\n",
              "  </thead>\n",
              "  <tbody>\n",
              "    <tr>\n",
              "      <th>count</th>\n",
              "      <td>376770</td>\n",
              "      <td>376770</td>\n",
              "      <td>376770</td>\n",
              "      <td>376770</td>\n",
              "      <td>55866</td>\n",
              "      <td>308252</td>\n",
              "      <td>61793</td>\n",
              "      <td>359792</td>\n",
              "      <td>376770</td>\n",
              "    </tr>\n",
              "    <tr>\n",
              "      <th>unique</th>\n",
              "      <td>336408</td>\n",
              "      <td>248850</td>\n",
              "      <td>21875</td>\n",
              "      <td>350810</td>\n",
              "      <td>14875</td>\n",
              "      <td>17</td>\n",
              "      <td>834</td>\n",
              "      <td>12467</td>\n",
              "      <td>4562</td>\n",
              "    </tr>\n",
              "    <tr>\n",
              "      <th>top</th>\n",
              "      <td>승정원일기</td>\n",
              "      <td>세종대왕기념사업회 [편]</td>\n",
              "      <td>문학동네</td>\n",
              "      <td>9788937430299</td>\n",
              "      <td>9788937460005</td>\n",
              "      <td>0</td>\n",
              "      <td>1</td>\n",
              "      <td>813.6</td>\n",
              "      <td>1970-01-01</td>\n",
              "    </tr>\n",
              "    <tr>\n",
              "      <th>freq</th>\n",
              "      <td>250</td>\n",
              "      <td>303</td>\n",
              "      <td>4410</td>\n",
              "      <td>206</td>\n",
              "      <td>702</td>\n",
              "      <td>158235</td>\n",
              "      <td>13282</td>\n",
              "      <td>14816</td>\n",
              "      <td>28185</td>\n",
              "    </tr>\n",
              "  </tbody>\n",
              "</table>\n",
              "</div>\n",
              "      <button class=\"colab-df-convert\" onclick=\"convertToInteractive('df-468b3579-e7de-4bb9-90d1-325944a54a2b')\"\n",
              "              title=\"Convert this dataframe to an interactive table.\"\n",
              "              style=\"display:none;\">\n",
              "        \n",
              "  <svg xmlns=\"http://www.w3.org/2000/svg\" height=\"24px\"viewBox=\"0 0 24 24\"\n",
              "       width=\"24px\">\n",
              "    <path d=\"M0 0h24v24H0V0z\" fill=\"none\"/>\n",
              "    <path d=\"M18.56 5.44l.94 2.06.94-2.06 2.06-.94-2.06-.94-.94-2.06-.94 2.06-2.06.94zm-11 1L8.5 8.5l.94-2.06 2.06-.94-2.06-.94L8.5 2.5l-.94 2.06-2.06.94zm10 10l.94 2.06.94-2.06 2.06-.94-2.06-.94-.94-2.06-.94 2.06-2.06.94z\"/><path d=\"M17.41 7.96l-1.37-1.37c-.4-.4-.92-.59-1.43-.59-.52 0-1.04.2-1.43.59L10.3 9.45l-7.72 7.72c-.78.78-.78 2.05 0 2.83L4 21.41c.39.39.9.59 1.41.59.51 0 1.02-.2 1.41-.59l7.78-7.78 2.81-2.81c.8-.78.8-2.07 0-2.86zM5.41 20L4 18.59l7.72-7.72 1.47 1.35L5.41 20z\"/>\n",
              "  </svg>\n",
              "      </button>\n",
              "      \n",
              "  <style>\n",
              "    .colab-df-container {\n",
              "      display:flex;\n",
              "      flex-wrap:wrap;\n",
              "      gap: 12px;\n",
              "    }\n",
              "\n",
              "    .colab-df-convert {\n",
              "      background-color: #E8F0FE;\n",
              "      border: none;\n",
              "      border-radius: 50%;\n",
              "      cursor: pointer;\n",
              "      display: none;\n",
              "      fill: #1967D2;\n",
              "      height: 32px;\n",
              "      padding: 0 0 0 0;\n",
              "      width: 32px;\n",
              "    }\n",
              "\n",
              "    .colab-df-convert:hover {\n",
              "      background-color: #E2EBFA;\n",
              "      box-shadow: 0px 1px 2px rgba(60, 64, 67, 0.3), 0px 1px 3px 1px rgba(60, 64, 67, 0.15);\n",
              "      fill: #174EA6;\n",
              "    }\n",
              "\n",
              "    [theme=dark] .colab-df-convert {\n",
              "      background-color: #3B4455;\n",
              "      fill: #D2E3FC;\n",
              "    }\n",
              "\n",
              "    [theme=dark] .colab-df-convert:hover {\n",
              "      background-color: #434B5C;\n",
              "      box-shadow: 0px 1px 3px 1px rgba(0, 0, 0, 0.15);\n",
              "      filter: drop-shadow(0px 1px 2px rgba(0, 0, 0, 0.3));\n",
              "      fill: #FFFFFF;\n",
              "    }\n",
              "  </style>\n",
              "\n",
              "      <script>\n",
              "        const buttonEl =\n",
              "          document.querySelector('#df-468b3579-e7de-4bb9-90d1-325944a54a2b button.colab-df-convert');\n",
              "        buttonEl.style.display =\n",
              "          google.colab.kernel.accessAllowed ? 'block' : 'none';\n",
              "\n",
              "        async function convertToInteractive(key) {\n",
              "          const element = document.querySelector('#df-468b3579-e7de-4bb9-90d1-325944a54a2b');\n",
              "          const dataTable =\n",
              "            await google.colab.kernel.invokeFunction('convertToInteractive',\n",
              "                                                     [key], {});\n",
              "          if (!dataTable) return;\n",
              "\n",
              "          const docLinkHtml = 'Like what you see? Visit the ' +\n",
              "            '<a target=\"_blank\" href=https://colab.research.google.com/notebooks/data_table.ipynb>data table notebook</a>'\n",
              "            + ' to learn more about interactive tables.';\n",
              "          element.innerHTML = '';\n",
              "          dataTable['output_type'] = 'display_data';\n",
              "          await google.colab.output.renderOutput(dataTable, element);\n",
              "          const docLink = document.createElement('div');\n",
              "          docLink.innerHTML = docLinkHtml;\n",
              "          element.appendChild(docLink);\n",
              "        }\n",
              "      </script>\n",
              "    </div>\n",
              "  </div>\n",
              "  "
            ]
          },
          "metadata": {},
          "execution_count": 7
        }
      ],
      "source": [
        "ns_book7.describe(include='object')"
      ]
    },
    {
      "cell_type": "markdown",
      "id": "0cc5aab1",
      "metadata": {
        "id": "0cc5aab1"
      },
      "source": [
        "## 평균"
      ]
    },
    {
      "cell_type": "markdown",
      "id": "545fe9ac",
      "metadata": {
        "id": "545fe9ac"
      },
      "source": [
        "$평균 = \\dfrac{a + b + c}{3}$\n",
        "\n",
        "$평균 = \\dfrac{x_1 + x_2 + x_3}{3}$"
      ]
    },
    {
      "cell_type": "code",
      "execution_count": null,
      "id": "d6b0b6df",
      "metadata": {
        "id": "d6b0b6df",
        "outputId": "5e873ce3-add0-4b81-da59-68348354516e",
        "colab": {
          "base_uri": "https://localhost:8080/"
        }
      },
      "outputs": [
        {
          "output_type": "stream",
          "name": "stdout",
          "text": [
            "평균: 20.0\n"
          ]
        }
      ],
      "source": [
        "x = [10, 20, 30]\n",
        "sum = 0\n",
        "for i in range(3):\n",
        "    sum += x[i]\n",
        "print(\"평균:\", sum / len(x))"
      ]
    },
    {
      "cell_type": "markdown",
      "id": "f177af39",
      "metadata": {
        "id": "f177af39"
      },
      "source": [
        "$평균 = \\dfrac{x_1 + x_2 + x_3}{3} = \\dfrac{\\sum_{i=1}^{3} x_i}{3}$\n",
        "\n",
        "$평균 대출건수 = \\dfrac{\\sum_{i=1}^{376770} x_i}{376770}$"
      ]
    },
    {
      "cell_type": "code",
      "execution_count": null,
      "id": "158b5986",
      "metadata": {
        "id": "158b5986",
        "outputId": "a5934837-c2e5-4ff0-8772-0e6b17ff807d",
        "colab": {
          "base_uri": "https://localhost:8080/"
        }
      },
      "outputs": [
        {
          "output_type": "execute_result",
          "data": {
            "text/plain": [
              "11.593438968070707"
            ]
          },
          "metadata": {},
          "execution_count": 9
        }
      ],
      "source": [
        "ns_book7['대출건수'].mean()"
      ]
    },
    {
      "cell_type": "markdown",
      "id": "cf1edb20",
      "metadata": {
        "id": "cf1edb20"
      },
      "source": [
        "## 중앙값"
      ]
    },
    {
      "cell_type": "code",
      "execution_count": null,
      "id": "97c4debc",
      "metadata": {
        "id": "97c4debc",
        "outputId": "af176a76-a373-4ee9-81a8-0a11742da5cd",
        "colab": {
          "base_uri": "https://localhost:8080/"
        }
      },
      "outputs": [
        {
          "output_type": "execute_result",
          "data": {
            "text/plain": [
              "6.0"
            ]
          },
          "metadata": {},
          "execution_count": 10
        }
      ],
      "source": [
        "ns_book7['대출건수'].median()"
      ]
    },
    {
      "cell_type": "code",
      "execution_count": null,
      "id": "9bab8059",
      "metadata": {
        "id": "9bab8059",
        "outputId": "e0f8688e-04d3-4cd9-a953-95fb94e76e44",
        "colab": {
          "base_uri": "https://localhost:8080/"
        }
      },
      "outputs": [
        {
          "output_type": "execute_result",
          "data": {
            "text/plain": [
              "0    2.5\n",
              "dtype: float64"
            ]
          },
          "metadata": {},
          "execution_count": 11
        }
      ],
      "source": [
        "temp_df = pd.DataFrame([1,2,3,4])\n",
        "temp_df.median()"
      ]
    },
    {
      "cell_type": "code",
      "execution_count": null,
      "id": "5edb6475",
      "metadata": {
        "id": "5edb6475",
        "outputId": "733b919c-0daf-4e2f-b61a-437a69d597d9",
        "colab": {
          "base_uri": "https://localhost:8080/"
        }
      },
      "outputs": [
        {
          "output_type": "execute_result",
          "data": {
            "text/plain": [
              "183.0"
            ]
          },
          "metadata": {},
          "execution_count": 12
        }
      ],
      "source": [
        "ns_book7['대출건수'].drop_duplicates().median()"
      ]
    },
    {
      "cell_type": "markdown",
      "id": "4b2519d7",
      "metadata": {
        "id": "4b2519d7"
      },
      "source": [
        "## 최솟값, 최댓값"
      ]
    },
    {
      "cell_type": "code",
      "execution_count": null,
      "id": "f3c6165f",
      "metadata": {
        "id": "f3c6165f",
        "outputId": "a5284319-b247-4623-9a9e-f9bb84a81a3f",
        "colab": {
          "base_uri": "https://localhost:8080/"
        }
      },
      "outputs": [
        {
          "output_type": "execute_result",
          "data": {
            "text/plain": [
              "0"
            ]
          },
          "metadata": {},
          "execution_count": 13
        }
      ],
      "source": [
        "ns_book7['대출건수'].min()"
      ]
    },
    {
      "cell_type": "code",
      "execution_count": null,
      "id": "93c8c740",
      "metadata": {
        "id": "93c8c740",
        "outputId": "cc105587-6c27-4f26-d02b-3001bc6ae632",
        "colab": {
          "base_uri": "https://localhost:8080/"
        }
      },
      "outputs": [
        {
          "output_type": "execute_result",
          "data": {
            "text/plain": [
              "1765"
            ]
          },
          "metadata": {},
          "execution_count": 14
        }
      ],
      "source": [
        "ns_book7['대출건수'].max()"
      ]
    },
    {
      "cell_type": "markdown",
      "id": "612914f1",
      "metadata": {
        "id": "612914f1"
      },
      "source": [
        "## 분위수"
      ]
    },
    {
      "cell_type": "code",
      "execution_count": null,
      "id": "e2826339",
      "metadata": {
        "id": "e2826339",
        "outputId": "71f63526-5e6f-489e-c907-cddeccd41270",
        "colab": {
          "base_uri": "https://localhost:8080/"
        }
      },
      "outputs": [
        {
          "output_type": "execute_result",
          "data": {
            "text/plain": [
              "2.0"
            ]
          },
          "metadata": {},
          "execution_count": 15
        }
      ],
      "source": [
        "ns_book7['대출건수'].quantile(0.25)"
      ]
    },
    {
      "cell_type": "code",
      "execution_count": null,
      "id": "4aa73f32",
      "metadata": {
        "id": "4aa73f32",
        "outputId": "2c1f898e-61b3-497c-e071-19d9bf88e8f0",
        "colab": {
          "base_uri": "https://localhost:8080/"
        }
      },
      "outputs": [
        {
          "output_type": "execute_result",
          "data": {
            "text/plain": [
              "0.25     2.0\n",
              "0.50     6.0\n",
              "0.75    14.0\n",
              "Name: 대출건수, dtype: float64"
            ]
          },
          "metadata": {},
          "execution_count": 16
        }
      ],
      "source": [
        "ns_book7['대출건수'].quantile([0.25,0.5,0.75])"
      ]
    },
    {
      "cell_type": "code",
      "execution_count": null,
      "id": "cfa1a9c0",
      "metadata": {
        "id": "cfa1a9c0",
        "outputId": "e95f9167-85a0-4a97-ee74-50b905282d5e",
        "colab": {
          "base_uri": "https://localhost:8080/"
        }
      },
      "outputs": [
        {
          "output_type": "execute_result",
          "data": {
            "text/plain": [
              "4.6"
            ]
          },
          "metadata": {},
          "execution_count": 17
        }
      ],
      "source": [
        "pd.Series([1,2,3,4,5]).quantile(0.9)"
      ]
    },
    {
      "cell_type": "code",
      "execution_count": null,
      "id": "c5834799",
      "metadata": {
        "id": "c5834799",
        "outputId": "014eb5d0-8f10-4dda-f4eb-67f02cd6779a",
        "colab": {
          "base_uri": "https://localhost:8080/"
        }
      },
      "outputs": [
        {
          "output_type": "execute_result",
          "data": {
            "text/plain": [
              "4.6"
            ]
          },
          "metadata": {},
          "execution_count": 18
        }
      ],
      "source": [
        "4 + (0.9-0.75)*(5-4)/(1.0-0.75)"
      ]
    },
    {
      "cell_type": "code",
      "execution_count": null,
      "id": "f96f7126",
      "metadata": {
        "id": "f96f7126",
        "outputId": "a0c0a367-e621-4f5a-dc5a-585c622c1b53",
        "colab": {
          "base_uri": "https://localhost:8080/"
        }
      },
      "outputs": [
        {
          "output_type": "execute_result",
          "data": {
            "text/plain": [
              "4.5"
            ]
          },
          "metadata": {},
          "execution_count": 19
        }
      ],
      "source": [
        "pd.Series([1,2,3,4,5]).quantile(0.9, interpolation='midpoint')"
      ]
    },
    {
      "cell_type": "code",
      "execution_count": null,
      "id": "2f226c34",
      "metadata": {
        "id": "2f226c34",
        "outputId": "2dcf1d87-0eb5-43d7-8ce7-4144f4c4968a",
        "colab": {
          "base_uri": "https://localhost:8080/"
        }
      },
      "outputs": [
        {
          "output_type": "execute_result",
          "data": {
            "text/plain": [
              "5"
            ]
          },
          "metadata": {},
          "execution_count": 20
        }
      ],
      "source": [
        "pd.Series([1,2,3,4,5]).quantile(0.9, interpolation='nearest')"
      ]
    },
    {
      "cell_type": "code",
      "execution_count": null,
      "id": "ac67b21c",
      "metadata": {
        "id": "ac67b21c"
      },
      "outputs": [],
      "source": [
        "borrow_10_flag = ns_book7['대출건수'] < 10"
      ]
    },
    {
      "cell_type": "code",
      "execution_count": null,
      "id": "0c08b1d3",
      "metadata": {
        "id": "0c08b1d3",
        "outputId": "9dd8b5d9-36d0-465d-c40a-cc1ae2acbe6f",
        "colab": {
          "base_uri": "https://localhost:8080/"
        }
      },
      "outputs": [
        {
          "output_type": "execute_result",
          "data": {
            "text/plain": [
              "0.6402712530190833"
            ]
          },
          "metadata": {},
          "execution_count": 22
        }
      ],
      "source": [
        "borrow_10_flag.mean()"
      ]
    },
    {
      "cell_type": "code",
      "execution_count": null,
      "id": "d35dd69e",
      "metadata": {
        "id": "d35dd69e",
        "outputId": "90d29e1a-5bdc-426c-84a4-aac279a983d6",
        "colab": {
          "base_uri": "https://localhost:8080/"
        }
      },
      "outputs": [
        {
          "output_type": "execute_result",
          "data": {
            "text/plain": [
              "10.0"
            ]
          },
          "metadata": {},
          "execution_count": 23
        }
      ],
      "source": [
        "ns_book7['대출건수'].quantile(0.65)"
      ]
    },
    {
      "cell_type": "markdown",
      "id": "c97f4390",
      "metadata": {
        "id": "c97f4390"
      },
      "source": [
        "## 분산"
      ]
    },
    {
      "cell_type": "markdown",
      "id": "112c1414",
      "metadata": {
        "id": "112c1414"
      },
      "source": [
        "$ s^2 = \\dfrac{\\sum_{i=1}^{n}(x_i - \\bar{x})^2}{n}$\n",
        "\n",
        "$ \\bar{x} = \\dfrac{\\sum_{i=1}^n x_i}{n}$"
      ]
    },
    {
      "cell_type": "code",
      "execution_count": null,
      "id": "5126703e",
      "metadata": {
        "id": "5126703e",
        "outputId": "86df29f9-cfe6-40cd-d71e-a043b7dbc170",
        "colab": {
          "base_uri": "https://localhost:8080/"
        }
      },
      "outputs": [
        {
          "output_type": "execute_result",
          "data": {
            "text/plain": [
              "371.69563042906674"
            ]
          },
          "metadata": {},
          "execution_count": 24
        }
      ],
      "source": [
        "ns_book7['대출건수'].var()"
      ]
    },
    {
      "cell_type": "markdown",
      "id": "f044841d",
      "metadata": {
        "id": "f044841d"
      },
      "source": [
        "## 표준 편차"
      ]
    },
    {
      "cell_type": "markdown",
      "id": "0344a344",
      "metadata": {
        "id": "0344a344"
      },
      "source": [
        "$ s = \\sqrt{\\dfrac{\\sum_{i=1}^{n}(x_i - \\bar{x})^2}{n}}$"
      ]
    },
    {
      "cell_type": "code",
      "execution_count": null,
      "id": "a9255feb",
      "metadata": {
        "id": "a9255feb",
        "outputId": "14520b5e-16d1-4bb1-b243-67803051809d",
        "colab": {
          "base_uri": "https://localhost:8080/"
        }
      },
      "outputs": [
        {
          "output_type": "execute_result",
          "data": {
            "text/plain": [
              "19.279409493785508"
            ]
          },
          "metadata": {},
          "execution_count": 25
        }
      ],
      "source": [
        "ns_book7['대출건수'].std()"
      ]
    },
    {
      "cell_type": "markdown",
      "id": "3e758e84",
      "metadata": {
        "id": "3e758e84"
      },
      "source": [
        "$\\sqrt{4}=2$"
      ]
    },
    {
      "cell_type": "code",
      "execution_count": null,
      "id": "8484e2ec",
      "metadata": {
        "id": "8484e2ec",
        "outputId": "b3655540-ce39-4c08-ff7c-d7c7cf390227",
        "colab": {
          "base_uri": "https://localhost:8080/"
        }
      },
      "outputs": [
        {
          "output_type": "execute_result",
          "data": {
            "text/plain": [
              "19.279409493785508"
            ]
          },
          "metadata": {},
          "execution_count": 26
        }
      ],
      "source": [
        "import numpy as np\n",
        "\n",
        "diff = ns_book7['대출건수'] - ns_book7['대출건수'].mean()\n",
        "\n",
        "np.sqrt( np.sum(diff**2) / (len(ns_book7)-1) )"
      ]
    },
    {
      "cell_type": "markdown",
      "id": "40e1d0d8",
      "metadata": {
        "id": "40e1d0d8"
      },
      "source": [
        "## 최빈값"
      ]
    },
    {
      "cell_type": "code",
      "execution_count": null,
      "id": "3dbb221c",
      "metadata": {
        "id": "3dbb221c",
        "outputId": "928ee9f2-1016-417d-f48f-740e2f09ee89",
        "colab": {
          "base_uri": "https://localhost:8080/"
        }
      },
      "outputs": [
        {
          "output_type": "execute_result",
          "data": {
            "text/plain": [
              "0    승정원일기\n",
              "dtype: object"
            ]
          },
          "metadata": {},
          "execution_count": 27
        }
      ],
      "source": [
        "ns_book7['도서명'].mode()"
      ]
    },
    {
      "cell_type": "code",
      "execution_count": null,
      "id": "995e739c",
      "metadata": {
        "scrolled": true,
        "id": "995e739c",
        "outputId": "ca2aafaf-dc19-431f-dcd3-50de5936660d",
        "colab": {
          "base_uri": "https://localhost:8080/"
        }
      },
      "outputs": [
        {
          "output_type": "execute_result",
          "data": {
            "text/plain": [
              "0    2012.0\n",
              "dtype: float64"
            ]
          },
          "metadata": {},
          "execution_count": 28
        }
      ],
      "source": [
        "ns_book7['발행년도'].mode()"
      ]
    },
    {
      "cell_type": "markdown",
      "id": "dc59d7f3",
      "metadata": {
        "id": "dc59d7f3"
      },
      "source": [
        "## 데이터프레임에서 기술통계 구하기"
      ]
    },
    {
      "cell_type": "code",
      "execution_count": null,
      "id": "ec51db89",
      "metadata": {
        "id": "ec51db89",
        "outputId": "732c3f51-cebe-4b66-c619-063a5d9255c9",
        "colab": {
          "base_uri": "https://localhost:8080/"
        }
      },
      "outputs": [
        {
          "output_type": "execute_result",
          "data": {
            "text/plain": [
              "번호      202977.476649\n",
              "발행년도      2008.460076\n",
              "도서권수         1.145540\n",
              "대출건수        11.593439\n",
              "dtype: float64"
            ]
          },
          "metadata": {},
          "execution_count": 29
        }
      ],
      "source": [
        "ns_book7.mean(numeric_only=True)"
      ]
    },
    {
      "cell_type": "code",
      "execution_count": null,
      "id": "9d4ee668",
      "metadata": {
        "scrolled": true,
        "id": "9d4ee668",
        "outputId": "69fa733e-0949-4214-f6e9-76661867e241",
        "colab": {
          "base_uri": "https://localhost:8080/",
          "height": 81
        }
      },
      "outputs": [
        {
          "output_type": "execute_result",
          "data": {
            "text/plain": [
              "     도서명             저자   출판사    발행년도           ISBN        세트 ISBN 부가기호  권  \\\n",
              "0  승정원일기  세종대왕기념사업회 [편]  문학동네  2012.0  9788937430299  9788937460005    0  1   \n",
              "\n",
              "  주제분류번호  도서권수  대출건수        등록일자  \n",
              "0  813.6     1     0  1970-01-01  "
            ],
            "text/html": [
              "\n",
              "  <div id=\"df-f9c8f6c2-7d7d-408e-8196-a0504585bfe7\">\n",
              "    <div class=\"colab-df-container\">\n",
              "      <div>\n",
              "<style scoped>\n",
              "    .dataframe tbody tr th:only-of-type {\n",
              "        vertical-align: middle;\n",
              "    }\n",
              "\n",
              "    .dataframe tbody tr th {\n",
              "        vertical-align: top;\n",
              "    }\n",
              "\n",
              "    .dataframe thead th {\n",
              "        text-align: right;\n",
              "    }\n",
              "</style>\n",
              "<table border=\"1\" class=\"dataframe\">\n",
              "  <thead>\n",
              "    <tr style=\"text-align: right;\">\n",
              "      <th></th>\n",
              "      <th>도서명</th>\n",
              "      <th>저자</th>\n",
              "      <th>출판사</th>\n",
              "      <th>발행년도</th>\n",
              "      <th>ISBN</th>\n",
              "      <th>세트 ISBN</th>\n",
              "      <th>부가기호</th>\n",
              "      <th>권</th>\n",
              "      <th>주제분류번호</th>\n",
              "      <th>도서권수</th>\n",
              "      <th>대출건수</th>\n",
              "      <th>등록일자</th>\n",
              "    </tr>\n",
              "  </thead>\n",
              "  <tbody>\n",
              "    <tr>\n",
              "      <th>0</th>\n",
              "      <td>승정원일기</td>\n",
              "      <td>세종대왕기념사업회 [편]</td>\n",
              "      <td>문학동네</td>\n",
              "      <td>2012.0</td>\n",
              "      <td>9788937430299</td>\n",
              "      <td>9788937460005</td>\n",
              "      <td>0</td>\n",
              "      <td>1</td>\n",
              "      <td>813.6</td>\n",
              "      <td>1</td>\n",
              "      <td>0</td>\n",
              "      <td>1970-01-01</td>\n",
              "    </tr>\n",
              "  </tbody>\n",
              "</table>\n",
              "</div>\n",
              "      <button class=\"colab-df-convert\" onclick=\"convertToInteractive('df-f9c8f6c2-7d7d-408e-8196-a0504585bfe7')\"\n",
              "              title=\"Convert this dataframe to an interactive table.\"\n",
              "              style=\"display:none;\">\n",
              "        \n",
              "  <svg xmlns=\"http://www.w3.org/2000/svg\" height=\"24px\"viewBox=\"0 0 24 24\"\n",
              "       width=\"24px\">\n",
              "    <path d=\"M0 0h24v24H0V0z\" fill=\"none\"/>\n",
              "    <path d=\"M18.56 5.44l.94 2.06.94-2.06 2.06-.94-2.06-.94-.94-2.06-.94 2.06-2.06.94zm-11 1L8.5 8.5l.94-2.06 2.06-.94-2.06-.94L8.5 2.5l-.94 2.06-2.06.94zm10 10l.94 2.06.94-2.06 2.06-.94-2.06-.94-.94-2.06-.94 2.06-2.06.94z\"/><path d=\"M17.41 7.96l-1.37-1.37c-.4-.4-.92-.59-1.43-.59-.52 0-1.04.2-1.43.59L10.3 9.45l-7.72 7.72c-.78.78-.78 2.05 0 2.83L4 21.41c.39.39.9.59 1.41.59.51 0 1.02-.2 1.41-.59l7.78-7.78 2.81-2.81c.8-.78.8-2.07 0-2.86zM5.41 20L4 18.59l7.72-7.72 1.47 1.35L5.41 20z\"/>\n",
              "  </svg>\n",
              "      </button>\n",
              "      \n",
              "  <style>\n",
              "    .colab-df-container {\n",
              "      display:flex;\n",
              "      flex-wrap:wrap;\n",
              "      gap: 12px;\n",
              "    }\n",
              "\n",
              "    .colab-df-convert {\n",
              "      background-color: #E8F0FE;\n",
              "      border: none;\n",
              "      border-radius: 50%;\n",
              "      cursor: pointer;\n",
              "      display: none;\n",
              "      fill: #1967D2;\n",
              "      height: 32px;\n",
              "      padding: 0 0 0 0;\n",
              "      width: 32px;\n",
              "    }\n",
              "\n",
              "    .colab-df-convert:hover {\n",
              "      background-color: #E2EBFA;\n",
              "      box-shadow: 0px 1px 2px rgba(60, 64, 67, 0.3), 0px 1px 3px 1px rgba(60, 64, 67, 0.15);\n",
              "      fill: #174EA6;\n",
              "    }\n",
              "\n",
              "    [theme=dark] .colab-df-convert {\n",
              "      background-color: #3B4455;\n",
              "      fill: #D2E3FC;\n",
              "    }\n",
              "\n",
              "    [theme=dark] .colab-df-convert:hover {\n",
              "      background-color: #434B5C;\n",
              "      box-shadow: 0px 1px 3px 1px rgba(0, 0, 0, 0.15);\n",
              "      filter: drop-shadow(0px 1px 2px rgba(0, 0, 0, 0.3));\n",
              "      fill: #FFFFFF;\n",
              "    }\n",
              "  </style>\n",
              "\n",
              "      <script>\n",
              "        const buttonEl =\n",
              "          document.querySelector('#df-f9c8f6c2-7d7d-408e-8196-a0504585bfe7 button.colab-df-convert');\n",
              "        buttonEl.style.display =\n",
              "          google.colab.kernel.accessAllowed ? 'block' : 'none';\n",
              "\n",
              "        async function convertToInteractive(key) {\n",
              "          const element = document.querySelector('#df-f9c8f6c2-7d7d-408e-8196-a0504585bfe7');\n",
              "          const dataTable =\n",
              "            await google.colab.kernel.invokeFunction('convertToInteractive',\n",
              "                                                     [key], {});\n",
              "          if (!dataTable) return;\n",
              "\n",
              "          const docLinkHtml = 'Like what you see? Visit the ' +\n",
              "            '<a target=\"_blank\" href=https://colab.research.google.com/notebooks/data_table.ipynb>data table notebook</a>'\n",
              "            + ' to learn more about interactive tables.';\n",
              "          element.innerHTML = '';\n",
              "          dataTable['output_type'] = 'display_data';\n",
              "          await google.colab.output.renderOutput(dataTable, element);\n",
              "          const docLink = document.createElement('div');\n",
              "          docLink.innerHTML = docLinkHtml;\n",
              "          element.appendChild(docLink);\n",
              "        }\n",
              "      </script>\n",
              "    </div>\n",
              "  </div>\n",
              "  "
            ]
          },
          "metadata": {},
          "execution_count": 30
        }
      ],
      "source": [
        "ns_book7.loc[:, '도서명':].mode()"
      ]
    },
    {
      "cell_type": "code",
      "execution_count": null,
      "id": "a9ccbdd1",
      "metadata": {
        "id": "a9ccbdd1"
      },
      "outputs": [],
      "source": [
        "ns_book7.to_csv('ns_book7.csv', index=False)"
      ]
    },
    {
      "cell_type": "markdown",
      "id": "f6114d2e",
      "metadata": {
        "id": "f6114d2e"
      },
      "source": [
        "## 넘파이의 기술통계 함수"
      ]
    },
    {
      "cell_type": "markdown",
      "id": "c8b788d8",
      "metadata": {
        "id": "c8b788d8"
      },
      "source": [
        "### 평균 구하기"
      ]
    },
    {
      "cell_type": "code",
      "execution_count": null,
      "id": "259df238",
      "metadata": {
        "id": "259df238",
        "outputId": "e28104c4-adb4-4172-d582-3c441c571e0e",
        "colab": {
          "base_uri": "https://localhost:8080/"
        }
      },
      "outputs": [
        {
          "output_type": "execute_result",
          "data": {
            "text/plain": [
              "11.593438968070707"
            ]
          },
          "metadata": {},
          "execution_count": 32
        }
      ],
      "source": [
        "import numpy as np\n",
        "\n",
        "np.mean(ns_book7['대출건수'])"
      ]
    },
    {
      "cell_type": "markdown",
      "id": "82696777",
      "metadata": {
        "id": "82696777"
      },
      "source": [
        "$\\dfrac{국어점수 \\times 2 + 수학점수}{3}$\n",
        "\n",
        "$\\dfrac{국어점수 \\times 국어가중치 + 수학점수 \\times 수학가중치}{국어가중치 + 수학가중치}$\n",
        "\n",
        "$가중평균 = \\dfrac{x_1 \\times w_1 + x_2 \\times w_2}{w_1 + w_2} = \\dfrac{\\sum_{i=1}^{2} x_i \\times w_i}{\\sum_{i=1}^{2} w_i}$"
      ]
    },
    {
      "cell_type": "code",
      "execution_count": null,
      "id": "1c7f005c",
      "metadata": {
        "scrolled": true,
        "id": "1c7f005c",
        "outputId": "941de028-c06c-4682-908b-3911c33bec8c",
        "colab": {
          "base_uri": "https://localhost:8080/"
        }
      },
      "outputs": [
        {
          "output_type": "execute_result",
          "data": {
            "text/plain": [
              "10.543612175385386"
            ]
          },
          "metadata": {},
          "execution_count": 33
        }
      ],
      "source": [
        "np.average(ns_book7['대출건수'], weights=1/ns_book7['도서권수'])"
      ]
    },
    {
      "cell_type": "code",
      "execution_count": null,
      "id": "e3f6a7b6",
      "metadata": {
        "id": "e3f6a7b6",
        "outputId": "8c1db740-b74c-409d-8e27-5f4c2f81eaaf",
        "colab": {
          "base_uri": "https://localhost:8080/"
        }
      },
      "outputs": [
        {
          "output_type": "execute_result",
          "data": {
            "text/plain": [
              "9.873029861445774"
            ]
          },
          "metadata": {},
          "execution_count": 34
        }
      ],
      "source": [
        "np.mean(ns_book7['대출건수']/ns_book7['도서권수'])"
      ]
    },
    {
      "cell_type": "code",
      "execution_count": null,
      "id": "20f9a992",
      "metadata": {
        "scrolled": true,
        "id": "20f9a992",
        "outputId": "62755f4c-7948-491f-cee4-b4ebd78c8e0b",
        "colab": {
          "base_uri": "https://localhost:8080/"
        }
      },
      "outputs": [
        {
          "output_type": "execute_result",
          "data": {
            "text/plain": [
              "10.120503701300958"
            ]
          },
          "metadata": {},
          "execution_count": 35
        }
      ],
      "source": [
        "ns_book7['대출건수'].sum()/ns_book7['도서권수'].sum()"
      ]
    },
    {
      "cell_type": "markdown",
      "id": "13b3a1e5",
      "metadata": {
        "id": "13b3a1e5"
      },
      "source": [
        "### 중앙값 구하기"
      ]
    },
    {
      "cell_type": "code",
      "execution_count": null,
      "id": "3f627653",
      "metadata": {
        "id": "3f627653",
        "outputId": "bc893063-e072-4deb-db19-db64298ce23e",
        "colab": {
          "base_uri": "https://localhost:8080/"
        }
      },
      "outputs": [
        {
          "output_type": "execute_result",
          "data": {
            "text/plain": [
              "6.0"
            ]
          },
          "metadata": {},
          "execution_count": 36
        }
      ],
      "source": [
        "np.median(ns_book7['대출건수'])"
      ]
    },
    {
      "cell_type": "markdown",
      "id": "ebf031cb",
      "metadata": {
        "id": "ebf031cb"
      },
      "source": [
        "### 최솟값, 최댓값 구하기"
      ]
    },
    {
      "cell_type": "code",
      "execution_count": null,
      "id": "f61e54a7",
      "metadata": {
        "id": "f61e54a7",
        "outputId": "7582e098-b7d3-4f7d-92d5-c5adbf9579be",
        "colab": {
          "base_uri": "https://localhost:8080/"
        }
      },
      "outputs": [
        {
          "output_type": "execute_result",
          "data": {
            "text/plain": [
              "0"
            ]
          },
          "metadata": {},
          "execution_count": 37
        }
      ],
      "source": [
        "np.min(ns_book7['대출건수'])"
      ]
    },
    {
      "cell_type": "code",
      "execution_count": null,
      "id": "730fe473",
      "metadata": {
        "id": "730fe473",
        "outputId": "a7d2f548-6258-4fca-df9e-667d6cfa5491",
        "colab": {
          "base_uri": "https://localhost:8080/"
        }
      },
      "outputs": [
        {
          "output_type": "execute_result",
          "data": {
            "text/plain": [
              "1765"
            ]
          },
          "metadata": {},
          "execution_count": 38
        }
      ],
      "source": [
        "np.max(ns_book7['대출건수'])"
      ]
    },
    {
      "cell_type": "markdown",
      "id": "91d5cb75",
      "metadata": {
        "id": "91d5cb75"
      },
      "source": [
        "### 분위수 구하기"
      ]
    },
    {
      "cell_type": "code",
      "execution_count": null,
      "id": "34a541ed",
      "metadata": {
        "id": "34a541ed",
        "outputId": "001f7da7-ce30-4c19-80d5-6918b4e28601",
        "colab": {
          "base_uri": "https://localhost:8080/"
        }
      },
      "outputs": [
        {
          "output_type": "execute_result",
          "data": {
            "text/plain": [
              "array([ 2.,  6., 14.])"
            ]
          },
          "metadata": {},
          "execution_count": 39
        }
      ],
      "source": [
        "# interpolation 매개변수가 numpy 1.22(python >= 3.8) 버전부터 method로 바뀜\n",
        "np.quantile(ns_book7['대출건수'], [0.25,0.5,0.75])"
      ]
    },
    {
      "cell_type": "markdown",
      "id": "3da83285",
      "metadata": {
        "id": "3da83285"
      },
      "source": [
        "### 분산 구하기"
      ]
    },
    {
      "cell_type": "code",
      "execution_count": null,
      "id": "9be4057a",
      "metadata": {
        "id": "9be4057a",
        "outputId": "e7802795-ce67-41db-d240-2fd891ecfa8e",
        "colab": {
          "base_uri": "https://localhost:8080/"
        }
      },
      "outputs": [
        {
          "output_type": "execute_result",
          "data": {
            "text/plain": [
              "371.6946438971496"
            ]
          },
          "metadata": {},
          "execution_count": 40
        }
      ],
      "source": [
        "np.var(ns_book7['대출건수'])"
      ]
    },
    {
      "cell_type": "markdown",
      "id": "e320c311",
      "metadata": {
        "id": "e320c311"
      },
      "source": [
        "$ s^2 = \\dfrac{\\sum_{i=1}^{n}(x_i - \\bar{x})^2}{n - 1}$"
      ]
    },
    {
      "cell_type": "code",
      "execution_count": null,
      "id": "0e1d74a0",
      "metadata": {
        "id": "0e1d74a0",
        "outputId": "eff3868d-b78e-4113-c27d-d52fe61c17a1",
        "colab": {
          "base_uri": "https://localhost:8080/"
        }
      },
      "outputs": [
        {
          "output_type": "execute_result",
          "data": {
            "text/plain": [
              "371.6946438971496"
            ]
          },
          "metadata": {},
          "execution_count": 41
        }
      ],
      "source": [
        "ns_book7['대출건수'].var(ddof=0)"
      ]
    },
    {
      "cell_type": "code",
      "execution_count": null,
      "id": "92a68ee5",
      "metadata": {
        "id": "92a68ee5",
        "outputId": "5a62c427-cdf8-42de-b567-f8d1516d4241",
        "colab": {
          "base_uri": "https://localhost:8080/"
        }
      },
      "outputs": [
        {
          "output_type": "execute_result",
          "data": {
            "text/plain": [
              "371.69563042906674"
            ]
          },
          "metadata": {},
          "execution_count": 42
        }
      ],
      "source": [
        "np.var(ns_book7['대출건수'], ddof=1)"
      ]
    },
    {
      "cell_type": "markdown",
      "id": "a50c7032",
      "metadata": {
        "id": "a50c7032"
      },
      "source": [
        "### 표준 편차 구하기"
      ]
    },
    {
      "cell_type": "code",
      "execution_count": null,
      "id": "7ecdabaa",
      "metadata": {
        "id": "7ecdabaa",
        "outputId": "86a924eb-bec7-46db-f4b3-9a969771ed34",
        "colab": {
          "base_uri": "https://localhost:8080/"
        }
      },
      "outputs": [
        {
          "output_type": "execute_result",
          "data": {
            "text/plain": [
              "19.27938390865096"
            ]
          },
          "metadata": {},
          "execution_count": 43
        }
      ],
      "source": [
        "np.std(ns_book7['대출건수'])"
      ]
    },
    {
      "cell_type": "markdown",
      "id": "eb01e4a1",
      "metadata": {
        "id": "eb01e4a1"
      },
      "source": [
        "### 최빈값 구하기"
      ]
    },
    {
      "cell_type": "code",
      "execution_count": null,
      "id": "d709a1bf",
      "metadata": {
        "id": "d709a1bf",
        "outputId": "dc603517-3788-4914-9d2e-cda9c0714fa4",
        "colab": {
          "base_uri": "https://localhost:8080/",
          "height": 36
        }
      },
      "outputs": [
        {
          "output_type": "execute_result",
          "data": {
            "text/plain": [
              "'승정원일기'"
            ],
            "application/vnd.google.colaboratory.intrinsic+json": {
              "type": "string"
            }
          },
          "metadata": {},
          "execution_count": 44
        }
      ],
      "source": [
        "values, counts = np.unique(ns_book7['도서명'], return_counts=True)\n",
        "max_idx = np.argmax(counts)\n",
        "values[max_idx]"
      ]
    },
    {
      "cell_type": "markdown",
      "id": "abd90117",
      "metadata": {
        "id": "abd90117"
      },
      "source": [
        "## 확인문제"
      ]
    },
    {
      "cell_type": "markdown",
      "id": "0842d73e",
      "metadata": {
        "id": "0842d73e"
      },
      "source": [
        "#### 4."
      ]
    },
    {
      "cell_type": "code",
      "execution_count": null,
      "id": "edde0726",
      "metadata": {
        "id": "edde0726",
        "outputId": "73f8fa08-4065-4b8c-ea90-f089c28d0f77",
        "colab": {
          "base_uri": "https://localhost:8080/",
          "height": 394
        }
      },
      "outputs": [
        {
          "output_type": "execute_result",
          "data": {
            "text/plain": [
              "                       대출건수\n",
              "출판사                        \n",
              "동녁라이프            224.000000\n",
              "와이비엠시사           215.000000\n",
              "환상               210.000000\n",
              "두앤비컨텐츠(랜덤하우스중앙)  167.000000\n",
              "개미들출판사-에셀문화사     157.000000\n",
              "해커스 어학 연구소       149.500000\n",
              "Test clinic      137.000000\n",
              "마야출판사            133.333333\n",
              "해밀 & Co.         133.000000\n",
              "마그나(Magna)       130.000000"
            ],
            "text/html": [
              "\n",
              "  <div id=\"df-d8af4582-4856-4b5d-851f-3d9de583c5d3\">\n",
              "    <div class=\"colab-df-container\">\n",
              "      <div>\n",
              "<style scoped>\n",
              "    .dataframe tbody tr th:only-of-type {\n",
              "        vertical-align: middle;\n",
              "    }\n",
              "\n",
              "    .dataframe tbody tr th {\n",
              "        vertical-align: top;\n",
              "    }\n",
              "\n",
              "    .dataframe thead th {\n",
              "        text-align: right;\n",
              "    }\n",
              "</style>\n",
              "<table border=\"1\" class=\"dataframe\">\n",
              "  <thead>\n",
              "    <tr style=\"text-align: right;\">\n",
              "      <th></th>\n",
              "      <th>대출건수</th>\n",
              "    </tr>\n",
              "    <tr>\n",
              "      <th>출판사</th>\n",
              "      <th></th>\n",
              "    </tr>\n",
              "  </thead>\n",
              "  <tbody>\n",
              "    <tr>\n",
              "      <th>동녁라이프</th>\n",
              "      <td>224.000000</td>\n",
              "    </tr>\n",
              "    <tr>\n",
              "      <th>와이비엠시사</th>\n",
              "      <td>215.000000</td>\n",
              "    </tr>\n",
              "    <tr>\n",
              "      <th>환상</th>\n",
              "      <td>210.000000</td>\n",
              "    </tr>\n",
              "    <tr>\n",
              "      <th>두앤비컨텐츠(랜덤하우스중앙)</th>\n",
              "      <td>167.000000</td>\n",
              "    </tr>\n",
              "    <tr>\n",
              "      <th>개미들출판사-에셀문화사</th>\n",
              "      <td>157.000000</td>\n",
              "    </tr>\n",
              "    <tr>\n",
              "      <th>해커스 어학 연구소</th>\n",
              "      <td>149.500000</td>\n",
              "    </tr>\n",
              "    <tr>\n",
              "      <th>Test clinic</th>\n",
              "      <td>137.000000</td>\n",
              "    </tr>\n",
              "    <tr>\n",
              "      <th>마야출판사</th>\n",
              "      <td>133.333333</td>\n",
              "    </tr>\n",
              "    <tr>\n",
              "      <th>해밀 &amp; Co.</th>\n",
              "      <td>133.000000</td>\n",
              "    </tr>\n",
              "    <tr>\n",
              "      <th>마그나(Magna)</th>\n",
              "      <td>130.000000</td>\n",
              "    </tr>\n",
              "  </tbody>\n",
              "</table>\n",
              "</div>\n",
              "      <button class=\"colab-df-convert\" onclick=\"convertToInteractive('df-d8af4582-4856-4b5d-851f-3d9de583c5d3')\"\n",
              "              title=\"Convert this dataframe to an interactive table.\"\n",
              "              style=\"display:none;\">\n",
              "        \n",
              "  <svg xmlns=\"http://www.w3.org/2000/svg\" height=\"24px\"viewBox=\"0 0 24 24\"\n",
              "       width=\"24px\">\n",
              "    <path d=\"M0 0h24v24H0V0z\" fill=\"none\"/>\n",
              "    <path d=\"M18.56 5.44l.94 2.06.94-2.06 2.06-.94-2.06-.94-.94-2.06-.94 2.06-2.06.94zm-11 1L8.5 8.5l.94-2.06 2.06-.94-2.06-.94L8.5 2.5l-.94 2.06-2.06.94zm10 10l.94 2.06.94-2.06 2.06-.94-2.06-.94-.94-2.06-.94 2.06-2.06.94z\"/><path d=\"M17.41 7.96l-1.37-1.37c-.4-.4-.92-.59-1.43-.59-.52 0-1.04.2-1.43.59L10.3 9.45l-7.72 7.72c-.78.78-.78 2.05 0 2.83L4 21.41c.39.39.9.59 1.41.59.51 0 1.02-.2 1.41-.59l7.78-7.78 2.81-2.81c.8-.78.8-2.07 0-2.86zM5.41 20L4 18.59l7.72-7.72 1.47 1.35L5.41 20z\"/>\n",
              "  </svg>\n",
              "      </button>\n",
              "      \n",
              "  <style>\n",
              "    .colab-df-container {\n",
              "      display:flex;\n",
              "      flex-wrap:wrap;\n",
              "      gap: 12px;\n",
              "    }\n",
              "\n",
              "    .colab-df-convert {\n",
              "      background-color: #E8F0FE;\n",
              "      border: none;\n",
              "      border-radius: 50%;\n",
              "      cursor: pointer;\n",
              "      display: none;\n",
              "      fill: #1967D2;\n",
              "      height: 32px;\n",
              "      padding: 0 0 0 0;\n",
              "      width: 32px;\n",
              "    }\n",
              "\n",
              "    .colab-df-convert:hover {\n",
              "      background-color: #E2EBFA;\n",
              "      box-shadow: 0px 1px 2px rgba(60, 64, 67, 0.3), 0px 1px 3px 1px rgba(60, 64, 67, 0.15);\n",
              "      fill: #174EA6;\n",
              "    }\n",
              "\n",
              "    [theme=dark] .colab-df-convert {\n",
              "      background-color: #3B4455;\n",
              "      fill: #D2E3FC;\n",
              "    }\n",
              "\n",
              "    [theme=dark] .colab-df-convert:hover {\n",
              "      background-color: #434B5C;\n",
              "      box-shadow: 0px 1px 3px 1px rgba(0, 0, 0, 0.15);\n",
              "      filter: drop-shadow(0px 1px 2px rgba(0, 0, 0, 0.3));\n",
              "      fill: #FFFFFF;\n",
              "    }\n",
              "  </style>\n",
              "\n",
              "      <script>\n",
              "        const buttonEl =\n",
              "          document.querySelector('#df-d8af4582-4856-4b5d-851f-3d9de583c5d3 button.colab-df-convert');\n",
              "        buttonEl.style.display =\n",
              "          google.colab.kernel.accessAllowed ? 'block' : 'none';\n",
              "\n",
              "        async function convertToInteractive(key) {\n",
              "          const element = document.querySelector('#df-d8af4582-4856-4b5d-851f-3d9de583c5d3');\n",
              "          const dataTable =\n",
              "            await google.colab.kernel.invokeFunction('convertToInteractive',\n",
              "                                                     [key], {});\n",
              "          if (!dataTable) return;\n",
              "\n",
              "          const docLinkHtml = 'Like what you see? Visit the ' +\n",
              "            '<a target=\"_blank\" href=https://colab.research.google.com/notebooks/data_table.ipynb>data table notebook</a>'\n",
              "            + ' to learn more about interactive tables.';\n",
              "          element.innerHTML = '';\n",
              "          dataTable['output_type'] = 'display_data';\n",
              "          await google.colab.output.renderOutput(dataTable, element);\n",
              "          const docLink = document.createElement('div');\n",
              "          docLink.innerHTML = docLinkHtml;\n",
              "          element.appendChild(docLink);\n",
              "        }\n",
              "      </script>\n",
              "    </div>\n",
              "  </div>\n",
              "  "
            ]
          },
          "metadata": {},
          "execution_count": 45
        }
      ],
      "source": [
        "ns_book7[['출판사','대출건수']].groupby('출판사').mean().sort_values('대출건수', ascending=False).head(10)"
      ]
    },
    {
      "cell_type": "markdown",
      "id": "b499f3a6",
      "metadata": {
        "id": "b499f3a6"
      },
      "source": [
        "#### 5."
      ]
    },
    {
      "cell_type": "code",
      "execution_count": null,
      "id": "9d5679f9",
      "metadata": {
        "id": "9d5679f9",
        "outputId": "fa439f4f-1388-42ca-c43a-9173d6b09e5d",
        "colab": {
          "base_uri": "https://localhost:8080/"
        }
      },
      "outputs": [
        {
          "output_type": "execute_result",
          "data": {
            "text/plain": [
              "51.51737134060568"
            ]
          },
          "metadata": {},
          "execution_count": 46
        }
      ],
      "source": [
        "target_range = np.array(ns_book7['대출건수'].quantile(q=[0.25,0.75]))\n",
        "target_bool_idx = (ns_book7['대출건수'] >= target_range[0]) & (ns_book7['대출건수'] <= target_range[1])\n",
        "target_bool_idx.sum()/len(ns_book7)*100"
      ]
    }
  ],
  "metadata": {
    "kernelspec": {
      "display_name": "Python 3",
      "language": "python",
      "name": "python3"
    },
    "language_info": {
      "codemirror_mode": {
        "name": "ipython",
        "version": 3
      },
      "file_extension": ".py",
      "mimetype": "text/x-python",
      "name": "python",
      "nbconvert_exporter": "python",
      "pygments_lexer": "ipython3",
      "version": "3.7.3"
    },
    "colab": {
      "provenance": []
    }
  },
  "nbformat": 4,
  "nbformat_minor": 5
}
